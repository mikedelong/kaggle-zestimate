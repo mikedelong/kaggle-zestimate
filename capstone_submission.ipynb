{
 "cells": [
  {
   "cell_type": "code",
   "execution_count": 20,
   "metadata": {
    "collapsed": true
   },
   "outputs": [
    {
     "name": "stdout",
     "output_type": "stream",
     "text": [
      "2.7.12 (default, Nov 19 2016, 06:48:10) \n[GCC 5.4.0 20160609]\n"
     ]
    }
   ],
   "source": [
    "import sys\n",
    "print (sys.version)"
   ]
  },
  {
   "cell_type": "code",
   "execution_count": 21,
   "metadata": {},
   "outputs": [
    {
     "name": "stdout",
     "output_type": "stream",
     "text": [
      "loaded properties from ../input/properties_2016.csv\nproperties shape: (2985217, 58)\nloaded transaction data from ../input/train_2016_v2.csv\ntrain shape: (90275, 3)\n"
     ]
    }
   ],
   "source": [
    "import numpy as np\n",
    "import pandas as pd\n",
    "properties_file = '../input/properties_2016.csv'\n",
    "training_file = '../input/train_2016_v2.csv'\n",
    "properties = pd.read_csv(properties_file, dtype={\n",
    "    'fireplaceflag': np.bool, 'hashottuborspa': np.bool,\n",
    "    'propertycountylandusecode': np.str,\n",
    "    'propertyzoningdesc': np.str}, converters={\n",
    "    'taxdelinquencyflag': lambda x: np.bool(True) if x == 'Y' else np.bool(False)})  # avoid mixed type warning\n",
    "print ('loaded properties from ' + properties_file)\n",
    "print ('properties shape: ' + str(properties.shape))\n",
    "train = pd.read_csv(training_file)\n",
    "print ('loaded transaction data from ' + training_file)\n",
    "print ('train shape: ' + str(train.shape))"
   ]
  },
  {
   "cell_type": "code",
   "execution_count": 22,
   "metadata": {},
   "outputs": [
    {
     "data": {
      "text/html": [
       "<div>\n",
       "<table border=\"1\" class=\"dataframe\">\n",
       "  <thead>\n",
       "    <tr style=\"text-align: right;\">\n",
       "      <th></th>\n",
       "      <th>landtaxvaluedollarcnt</th>\n",
       "      <th>structuretaxvaluedollarcnt</th>\n",
       "      <th>taxamount</th>\n",
       "      <th>taxvaluedollarcnt</th>\n",
       "      <th>calculatedfinishedsquarefeet</th>\n",
       "    </tr>\n",
       "  </thead>\n",
       "  <tbody>\n",
       "    <tr>\n",
       "      <th>count</th>\n",
       "      <td>2.917484e+06</td>\n",
       "      <td>2.930235e+06</td>\n",
       "      <td>2.953967e+06</td>\n",
       "      <td>2.942667e+06</td>\n",
       "      <td>2.929652e+06</td>\n",
       "    </tr>\n",
       "    <tr>\n",
       "      <th>mean</th>\n",
       "      <td>2.524780e+05</td>\n",
       "      <td>1.708836e+05</td>\n",
       "      <td>5.377607e+03</td>\n",
       "      <td>4.204790e+05</td>\n",
       "      <td>1.827162e+03</td>\n",
       "    </tr>\n",
       "    <tr>\n",
       "      <th>std</th>\n",
       "      <td>4.450132e+05</td>\n",
       "      <td>4.020683e+05</td>\n",
       "      <td>9.183107e+03</td>\n",
       "      <td>7.263467e+05</td>\n",
       "      <td>1.819780e+03</td>\n",
       "    </tr>\n",
       "    <tr>\n",
       "      <th>min</th>\n",
       "      <td>1.000000e+00</td>\n",
       "      <td>1.000000e+00</td>\n",
       "      <td>1.340000e+00</td>\n",
       "      <td>1.000000e+00</td>\n",
       "      <td>1.000000e+00</td>\n",
       "    </tr>\n",
       "    <tr>\n",
       "      <th>25%</th>\n",
       "      <td>7.483600e+04</td>\n",
       "      <td>7.480000e+04</td>\n",
       "      <td>2.461070e+03</td>\n",
       "      <td>1.796750e+05</td>\n",
       "      <td>1.213000e+03</td>\n",
       "    </tr>\n",
       "    <tr>\n",
       "      <th>50%</th>\n",
       "      <td>1.670420e+05</td>\n",
       "      <td>1.225900e+05</td>\n",
       "      <td>3.991780e+03</td>\n",
       "      <td>3.060860e+05</td>\n",
       "      <td>1.572000e+03</td>\n",
       "    </tr>\n",
       "    <tr>\n",
       "      <th>75%</th>\n",
       "      <td>3.069180e+05</td>\n",
       "      <td>1.968890e+05</td>\n",
       "      <td>6.201005e+03</td>\n",
       "      <td>4.880000e+05</td>\n",
       "      <td>2.136000e+03</td>\n",
       "    </tr>\n",
       "    <tr>\n",
       "      <th>max</th>\n",
       "      <td>9.024622e+07</td>\n",
       "      <td>2.514860e+08</td>\n",
       "      <td>3.458861e+06</td>\n",
       "      <td>2.827860e+08</td>\n",
       "      <td>9.525760e+05</td>\n",
       "    </tr>\n",
       "  </tbody>\n",
       "</table>\n",
       "</div>"
      ],
      "text/plain": [
       "<div>\n",
       "<table border=\"1\" class=\"dataframe\">\n",
       "  <thead>\n",
       "    <tr style=\"text-align: right;\">\n",
       "      <th></th>\n",
       "      <th>landtaxvaluedollarcnt</th>\n",
       "      <th>structuretaxvaluedollarcnt</th>\n",
       "      <th>taxamount</th>\n",
       "      <th>taxvaluedollarcnt</th>\n",
       "      <th>calculatedfinishedsquarefeet</th>\n",
       "    </tr>\n",
       "  </thead>\n",
       "  <tbody>\n",
       "    <tr>\n",
       "      <th>count</th>\n",
       "      <td>2.917484e+06</td>\n",
       "      <td>2.930235e+06</td>\n",
       "      <td>2.953967e+06</td>\n",
       "      <td>2.942667e+06</td>\n",
       "      <td>2.929652e+06</td>\n",
       "    </tr>\n",
       "    <tr>\n",
       "      <th>mean</th>\n",
       "      <td>2.524780e+05</td>\n",
       "      <td>1.708836e+05</td>\n",
       "      <td>5.377607e+03</td>\n",
       "      <td>4.204790e+05</td>\n",
       "      <td>1.827162e+03</td>\n",
       "    </tr>\n",
       "    <tr>\n",
       "      <th>std</th>\n",
       "      <td>4.450132e+05</td>\n",
       "      <td>4.020683e+05</td>\n",
       "      <td>9.183107e+03</td>\n",
       "      <td>7.263467e+05</td>\n",
       "      <td>1.819780e+03</td>\n",
       "    </tr>\n",
       "    <tr>\n",
       "      <th>min</th>\n",
       "      <td>1.000000e+00</td>\n",
       "      <td>1.000000e+00</td>\n",
       "      <td>1.340000e+00</td>\n",
       "      <td>1.000000e+00</td>\n",
       "      <td>1.000000e+00</td>\n",
       "    </tr>\n",
       "    <tr>\n",
       "      <th>25%</th>\n",
       "      <td>7.483600e+04</td>\n",
       "      <td>7.480000e+04</td>\n",
       "      <td>2.461070e+03</td>\n",
       "      <td>1.796750e+05</td>\n",
       "      <td>1.213000e+03</td>\n",
       "    </tr>\n",
       "    <tr>\n",
       "      <th>50%</th>\n",
       "      <td>1.670420e+05</td>\n",
       "      <td>1.225900e+05</td>\n",
       "      <td>3.991780e+03</td>\n",
       "      <td>3.060860e+05</td>\n",
       "      <td>1.572000e+03</td>\n",
       "    </tr>\n",
       "    <tr>\n",
       "      <th>75%</th>\n",
       "      <td>3.069180e+05</td>\n",
       "      <td>1.968890e+05</td>\n",
       "      <td>6.201005e+03</td>\n",
       "      <td>4.880000e+05</td>\n",
       "      <td>2.136000e+03</td>\n",
       "    </tr>\n",
       "    <tr>\n",
       "      <th>max</th>\n",
       "      <td>9.024622e+07</td>\n",
       "      <td>2.514860e+08</td>\n",
       "      <td>3.458861e+06</td>\n",
       "      <td>2.827860e+08</td>\n",
       "      <td>9.525760e+05</td>\n",
       "    </tr>\n",
       "  </tbody>\n",
       "</table>\n",
       "</div>"
      ]
     },
     "execution_count": 22,
     "metadata": {},
     "output_type": "execute_result"
    }
   ],
   "source": [
    "# take the log of select columns to reduce skew\n",
    "\n",
    "log_columns = ['landtaxvaluedollarcnt', 'structuretaxvaluedollarcnt', 'taxamount', 'taxvaluedollarcnt',\n",
    "               'calculatedfinishedsquarefeet']\n",
    "properties[log_columns].describe()"
   ]
  },
  {
   "cell_type": "code",
   "execution_count": 27,
   "metadata": {},
   "outputs": [
    {
     "data": {
      "text/html": [
       "<div>\n",
       "<table border=\"1\" class=\"dataframe\">\n",
       "  <thead>\n",
       "    <tr style=\"text-align: right;\">\n",
       "      <th></th>\n",
       "      <th>landtaxvaluedollarcnt</th>\n",
       "      <th>structuretaxvaluedollarcnt</th>\n",
       "      <th>taxamount</th>\n",
       "      <th>taxvaluedollarcnt</th>\n",
       "      <th>calculatedfinishedsquarefeet</th>\n",
       "    </tr>\n",
       "  </thead>\n",
       "  <tbody>\n",
       "    <tr>\n",
       "      <th>count</th>\n",
       "      <td>2.917484e+06</td>\n",
       "      <td>2.930235e+06</td>\n",
       "      <td>2.953967e+06</td>\n",
       "      <td>2.942667e+06</td>\n",
       "      <td>2.929652e+06</td>\n",
       "    </tr>\n",
       "    <tr>\n",
       "      <th>mean</th>\n",
       "      <td>-inf</td>\n",
       "      <td>-inf</td>\n",
       "      <td>2.102477e+00</td>\n",
       "      <td>-inf</td>\n",
       "      <td>-inf</td>\n",
       "    </tr>\n",
       "    <tr>\n",
       "      <th>std</th>\n",
       "      <td>NaN</td>\n",
       "      <td>NaN</td>\n",
       "      <td>1.110479e-01</td>\n",
       "      <td>NaN</td>\n",
       "      <td>NaN</td>\n",
       "    </tr>\n",
       "    <tr>\n",
       "      <th>min</th>\n",
       "      <td>-inf</td>\n",
       "      <td>-inf</td>\n",
       "      <td>-1.228711e+00</td>\n",
       "      <td>-inf</td>\n",
       "      <td>-inf</td>\n",
       "    </tr>\n",
       "    <tr>\n",
       "      <th>25%</th>\n",
       "      <td>2.417970e+00</td>\n",
       "      <td>2.417927e+00</td>\n",
       "      <td>2.055194e+00</td>\n",
       "      <td>2.493115e+00</td>\n",
       "      <td>1.960215e+00</td>\n",
       "    </tr>\n",
       "    <tr>\n",
       "      <th>50%</th>\n",
       "      <td>2.487071e+00</td>\n",
       "      <td>2.461007e+00</td>\n",
       "      <td>2.115290e+00</td>\n",
       "      <td>2.536203e+00</td>\n",
       "      <td>1.996074e+00</td>\n",
       "    </tr>\n",
       "    <tr>\n",
       "      <th>75%</th>\n",
       "      <td>2.536418e+00</td>\n",
       "      <td>2.500648e+00</td>\n",
       "      <td>2.167048e+00</td>\n",
       "      <td>2.572465e+00</td>\n",
       "      <td>2.036885e+00</td>\n",
       "    </tr>\n",
       "    <tr>\n",
       "      <th>max</th>\n",
       "      <td>2.907887e+00</td>\n",
       "      <td>2.962325e+00</td>\n",
       "      <td>2.711806e+00</td>\n",
       "      <td>2.968371e+00</td>\n",
       "      <td>2.622269e+00</td>\n",
       "    </tr>\n",
       "  </tbody>\n",
       "</table>\n",
       "</div>"
      ],
      "text/plain": [
       "<div>\n",
       "<table border=\"1\" class=\"dataframe\">\n",
       "  <thead>\n",
       "    <tr style=\"text-align: right;\">\n",
       "      <th></th>\n",
       "      <th>landtaxvaluedollarcnt</th>\n",
       "      <th>structuretaxvaluedollarcnt</th>\n",
       "      <th>taxamount</th>\n",
       "      <th>taxvaluedollarcnt</th>\n",
       "      <th>calculatedfinishedsquarefeet</th>\n",
       "    </tr>\n",
       "  </thead>\n",
       "  <tbody>\n",
       "    <tr>\n",
       "      <th>count</th>\n",
       "      <td>2.917484e+06</td>\n",
       "      <td>2.930235e+06</td>\n",
       "      <td>2.953967e+06</td>\n",
       "      <td>2.942667e+06</td>\n",
       "      <td>2.929652e+06</td>\n",
       "    </tr>\n",
       "    <tr>\n",
       "      <th>mean</th>\n",
       "      <td>-inf</td>\n",
       "      <td>-inf</td>\n",
       "      <td>2.102477e+00</td>\n",
       "      <td>-inf</td>\n",
       "      <td>-inf</td>\n",
       "    </tr>\n",
       "    <tr>\n",
       "      <th>std</th>\n",
       "      <td>NaN</td>\n",
       "      <td>NaN</td>\n",
       "      <td>1.110479e-01</td>\n",
       "      <td>NaN</td>\n",
       "      <td>NaN</td>\n",
       "    </tr>\n",
       "    <tr>\n",
       "      <th>min</th>\n",
       "      <td>-inf</td>\n",
       "      <td>-inf</td>\n",
       "      <td>-1.228711e+00</td>\n",
       "      <td>-inf</td>\n",
       "      <td>-inf</td>\n",
       "    </tr>\n",
       "    <tr>\n",
       "      <th>25%</th>\n",
       "      <td>2.417970e+00</td>\n",
       "      <td>2.417927e+00</td>\n",
       "      <td>2.055194e+00</td>\n",
       "      <td>2.493115e+00</td>\n",
       "      <td>1.960215e+00</td>\n",
       "    </tr>\n",
       "    <tr>\n",
       "      <th>50%</th>\n",
       "      <td>2.487071e+00</td>\n",
       "      <td>2.461007e+00</td>\n",
       "      <td>2.115290e+00</td>\n",
       "      <td>2.536203e+00</td>\n",
       "      <td>1.996074e+00</td>\n",
       "    </tr>\n",
       "    <tr>\n",
       "      <th>75%</th>\n",
       "      <td>2.536418e+00</td>\n",
       "      <td>2.500648e+00</td>\n",
       "      <td>2.167048e+00</td>\n",
       "      <td>2.572465e+00</td>\n",
       "      <td>2.036885e+00</td>\n",
       "    </tr>\n",
       "    <tr>\n",
       "      <th>max</th>\n",
       "      <td>2.907887e+00</td>\n",
       "      <td>2.962325e+00</td>\n",
       "      <td>2.711806e+00</td>\n",
       "      <td>2.968371e+00</td>\n",
       "      <td>2.622269e+00</td>\n",
       "    </tr>\n",
       "  </tbody>\n",
       "</table>\n",
       "</div>"
      ]
     },
     "execution_count": 24,
     "metadata": {},
     "output_type": "execute_result"
    },
    {
     "data": {
      "text/html": [
       "<div>\n",
       "<table border=\"1\" class=\"dataframe\">\n",
       "  <thead>\n",
       "    <tr style=\"text-align: right;\">\n",
       "      <th></th>\n",
       "      <th>landtaxvaluedollarcnt</th>\n",
       "      <th>structuretaxvaluedollarcnt</th>\n",
       "      <th>taxamount</th>\n",
       "      <th>taxvaluedollarcnt</th>\n",
       "      <th>calculatedfinishedsquarefeet</th>\n",
       "    </tr>\n",
       "  </thead>\n",
       "  <tbody>\n",
       "    <tr>\n",
       "      <th>count</th>\n",
       "      <td>2.917474e+06</td>\n",
       "      <td>2.930217e+06</td>\n",
       "      <td>2.953958e+06</td>\n",
       "      <td>2.942660e+06</td>\n",
       "      <td>2.929639e+06</td>\n",
       "    </tr>\n",
       "    <tr>\n",
       "      <th>mean</th>\n",
       "      <td>9.031419e-01</td>\n",
       "      <td>8.978513e-01</td>\n",
       "      <td>7.416085e-01</td>\n",
       "      <td>9.259766e-01</td>\n",
       "      <td>6.923068e-01</td>\n",
       "    </tr>\n",
       "    <tr>\n",
       "      <th>std</th>\n",
       "      <td>5.097078e-02</td>\n",
       "      <td>3.376917e-02</td>\n",
       "      <td>5.634309e-02</td>\n",
       "      <td>4.424445e-02</td>\n",
       "      <td>3.062366e-02</td>\n",
       "    </tr>\n",
       "    <tr>\n",
       "      <th>min</th>\n",
       "      <td>-2.363952e+00</td>\n",
       "      <td>-1.118914e+00</td>\n",
       "      <td>-7.373869e-01</td>\n",
       "      <td>-2.363952e+00</td>\n",
       "      <td>-2.363952e+00</td>\n",
       "    </tr>\n",
       "    <tr>\n",
       "      <th>25%</th>\n",
       "      <td>8.829284e-01</td>\n",
       "      <td>8.829106e-01</td>\n",
       "      <td>7.203707e-01</td>\n",
       "      <td>9.135329e-01</td>\n",
       "      <td>6.730540e-01</td>\n",
       "    </tr>\n",
       "    <tr>\n",
       "      <th>50%</th>\n",
       "      <td>9.111059e-01</td>\n",
       "      <td>9.005705e-01</td>\n",
       "      <td>7.491921e-01</td>\n",
       "      <td>9.306682e-01</td>\n",
       "      <td>6.911823e-01</td>\n",
       "    </tr>\n",
       "    <tr>\n",
       "      <th>75%</th>\n",
       "      <td>9.307529e-01</td>\n",
       "      <td>9.165500e-01</td>\n",
       "      <td>7.733659e-01</td>\n",
       "      <td>9.448646e-01</td>\n",
       "      <td>7.114217e-01</td>\n",
       "    </tr>\n",
       "    <tr>\n",
       "      <th>max</th>\n",
       "      <td>1.067427e+00</td>\n",
       "      <td>1.085975e+00</td>\n",
       "      <td>9.976150e-01</td>\n",
       "      <td>1.088013e+00</td>\n",
       "      <td>9.640400e-01</td>\n",
       "    </tr>\n",
       "  </tbody>\n",
       "</table>\n",
       "</div>"
      ],
      "text/plain": [
       "<div>\n",
       "<table border=\"1\" class=\"dataframe\">\n",
       "  <thead>\n",
       "    <tr style=\"text-align: right;\">\n",
       "      <th></th>\n",
       "      <th>landtaxvaluedollarcnt</th>\n",
       "      <th>structuretaxvaluedollarcnt</th>\n",
       "      <th>taxamount</th>\n",
       "      <th>taxvaluedollarcnt</th>\n",
       "      <th>calculatedfinishedsquarefeet</th>\n",
       "    </tr>\n",
       "  </thead>\n",
       "  <tbody>\n",
       "    <tr>\n",
       "      <th>count</th>\n",
       "      <td>2.917474e+06</td>\n",
       "      <td>2.930217e+06</td>\n",
       "      <td>2.953958e+06</td>\n",
       "      <td>2.942660e+06</td>\n",
       "      <td>2.929639e+06</td>\n",
       "    </tr>\n",
       "    <tr>\n",
       "      <th>mean</th>\n",
       "      <td>9.031419e-01</td>\n",
       "      <td>8.978513e-01</td>\n",
       "      <td>7.416085e-01</td>\n",
       "      <td>9.259766e-01</td>\n",
       "      <td>6.923068e-01</td>\n",
       "    </tr>\n",
       "    <tr>\n",
       "      <th>std</th>\n",
       "      <td>5.097078e-02</td>\n",
       "      <td>3.376917e-02</td>\n",
       "      <td>5.634309e-02</td>\n",
       "      <td>4.424445e-02</td>\n",
       "      <td>3.062366e-02</td>\n",
       "    </tr>\n",
       "    <tr>\n",
       "      <th>min</th>\n",
       "      <td>-2.363952e+00</td>\n",
       "      <td>-1.118914e+00</td>\n",
       "      <td>-7.373869e-01</td>\n",
       "      <td>-2.363952e+00</td>\n",
       "      <td>-2.363952e+00</td>\n",
       "    </tr>\n",
       "    <tr>\n",
       "      <th>25%</th>\n",
       "      <td>8.829284e-01</td>\n",
       "      <td>8.829106e-01</td>\n",
       "      <td>7.203707e-01</td>\n",
       "      <td>9.135329e-01</td>\n",
       "      <td>6.730540e-01</td>\n",
       "    </tr>\n",
       "    <tr>\n",
       "      <th>50%</th>\n",
       "      <td>9.111059e-01</td>\n",
       "      <td>9.005705e-01</td>\n",
       "      <td>7.491921e-01</td>\n",
       "      <td>9.306682e-01</td>\n",
       "      <td>6.911823e-01</td>\n",
       "    </tr>\n",
       "    <tr>\n",
       "      <th>75%</th>\n",
       "      <td>9.307529e-01</td>\n",
       "      <td>9.165500e-01</td>\n",
       "      <td>7.733659e-01</td>\n",
       "      <td>9.448646e-01</td>\n",
       "      <td>7.114217e-01</td>\n",
       "    </tr>\n",
       "    <tr>\n",
       "      <th>max</th>\n",
       "      <td>1.067427e+00</td>\n",
       "      <td>1.085975e+00</td>\n",
       "      <td>9.976150e-01</td>\n",
       "      <td>1.088013e+00</td>\n",
       "      <td>9.640400e-01</td>\n",
       "    </tr>\n",
       "  </tbody>\n",
       "</table>\n",
       "</div>"
      ]
     },
     "execution_count": 25,
     "metadata": {},
     "output_type": "execute_result"
    },
    {
     "data": {
      "text/html": [
       "<div>\n",
       "<table border=\"1\" class=\"dataframe\">\n",
       "  <thead>\n",
       "    <tr style=\"text-align: right;\">\n",
       "      <th></th>\n",
       "      <th>landtaxvaluedollarcnt</th>\n",
       "      <th>structuretaxvaluedollarcnt</th>\n",
       "      <th>taxamount</th>\n",
       "      <th>taxvaluedollarcnt</th>\n",
       "      <th>calculatedfinishedsquarefeet</th>\n",
       "    </tr>\n",
       "  </thead>\n",
       "  <tbody>\n",
       "    <tr>\n",
       "      <th>count</th>\n",
       "      <td>2.915015e+06</td>\n",
       "      <td>2.929847e+06</td>\n",
       "      <td>2.953780e+06</td>\n",
       "      <td>2.940501e+06</td>\n",
       "      <td>2.929623e+06</td>\n",
       "    </tr>\n",
       "    <tr>\n",
       "      <th>mean</th>\n",
       "      <td>-1.017508e-01</td>\n",
       "      <td>-1.082217e-01</td>\n",
       "      <td>-3.022449e-01</td>\n",
       "      <td>-7.670923e-02</td>\n",
       "      <td>-3.686669e-01</td>\n",
       "    </tr>\n",
       "    <tr>\n",
       "      <th>std</th>\n",
       "      <td>4.406271e-02</td>\n",
       "      <td>3.629222e-02</td>\n",
       "      <td>8.834117e-02</td>\n",
       "      <td>4.341197e-02</td>\n",
       "      <td>4.407504e-02</td>\n",
       "    </tr>\n",
       "    <tr>\n",
       "      <th>min</th>\n",
       "      <td>-2.820523e+00</td>\n",
       "      <td>-1.639839e+00</td>\n",
       "      <td>-5.799007e+00</td>\n",
       "      <td>-3.932821e+00</td>\n",
       "      <td>-2.377835e+00</td>\n",
       "    </tr>\n",
       "    <tr>\n",
       "      <th>25%</th>\n",
       "      <td>-1.243798e-01</td>\n",
       "      <td>-1.245190e-01</td>\n",
       "      <td>-3.279806e-01</td>\n",
       "      <td>-9.037030e-02</td>\n",
       "      <td>-3.959297e-01</td>\n",
       "    </tr>\n",
       "    <tr>\n",
       "      <th>50%</th>\n",
       "      <td>-9.305836e-02</td>\n",
       "      <td>-1.047240e-01</td>\n",
       "      <td>-2.887557e-01</td>\n",
       "      <td>-7.184095e-02</td>\n",
       "      <td>-3.693517e-01</td>\n",
       "    </tr>\n",
       "    <tr>\n",
       "      <th>75%</th>\n",
       "      <td>-7.175193e-02</td>\n",
       "      <td>-8.713660e-02</td>\n",
       "      <td>-2.570005e-01</td>\n",
       "      <td>-5.670500e-02</td>\n",
       "      <td>-3.404899e-01</td>\n",
       "    </tr>\n",
       "    <tr>\n",
       "      <th>max</th>\n",
       "      <td>6.525081e-02</td>\n",
       "      <td>8.247778e-02</td>\n",
       "      <td>-2.387843e-03</td>\n",
       "      <td>8.435351e-02</td>\n",
       "      <td>-3.662252e-02</td>\n",
       "    </tr>\n",
       "  </tbody>\n",
       "</table>\n",
       "</div>"
      ],
      "text/plain": [
       "<div>\n",
       "<table border=\"1\" class=\"dataframe\">\n",
       "  <thead>\n",
       "    <tr style=\"text-align: right;\">\n",
       "      <th></th>\n",
       "      <th>landtaxvaluedollarcnt</th>\n",
       "      <th>structuretaxvaluedollarcnt</th>\n",
       "      <th>taxamount</th>\n",
       "      <th>taxvaluedollarcnt</th>\n",
       "      <th>calculatedfinishedsquarefeet</th>\n",
       "    </tr>\n",
       "  </thead>\n",
       "  <tbody>\n",
       "    <tr>\n",
       "      <th>count</th>\n",
       "      <td>2.915015e+06</td>\n",
       "      <td>2.929847e+06</td>\n",
       "      <td>2.953780e+06</td>\n",
       "      <td>2.940501e+06</td>\n",
       "      <td>2.929623e+06</td>\n",
       "    </tr>\n",
       "    <tr>\n",
       "      <th>mean</th>\n",
       "      <td>-1.017508e-01</td>\n",
       "      <td>-1.082217e-01</td>\n",
       "      <td>-3.022449e-01</td>\n",
       "      <td>-7.670923e-02</td>\n",
       "      <td>-3.686669e-01</td>\n",
       "    </tr>\n",
       "    <tr>\n",
       "      <th>std</th>\n",
       "      <td>4.406271e-02</td>\n",
       "      <td>3.629222e-02</td>\n",
       "      <td>8.834117e-02</td>\n",
       "      <td>4.341197e-02</td>\n",
       "      <td>4.407504e-02</td>\n",
       "    </tr>\n",
       "    <tr>\n",
       "      <th>min</th>\n",
       "      <td>-2.820523e+00</td>\n",
       "      <td>-1.639839e+00</td>\n",
       "      <td>-5.799007e+00</td>\n",
       "      <td>-3.932821e+00</td>\n",
       "      <td>-2.377835e+00</td>\n",
       "    </tr>\n",
       "    <tr>\n",
       "      <th>25%</th>\n",
       "      <td>-1.243798e-01</td>\n",
       "      <td>-1.245190e-01</td>\n",
       "      <td>-3.279806e-01</td>\n",
       "      <td>-9.037030e-02</td>\n",
       "      <td>-3.959297e-01</td>\n",
       "    </tr>\n",
       "    <tr>\n",
       "      <th>50%</th>\n",
       "      <td>-9.305836e-02</td>\n",
       "      <td>-1.047240e-01</td>\n",
       "      <td>-2.887557e-01</td>\n",
       "      <td>-7.184095e-02</td>\n",
       "      <td>-3.693517e-01</td>\n",
       "    </tr>\n",
       "    <tr>\n",
       "      <th>75%</th>\n",
       "      <td>-7.175193e-02</td>\n",
       "      <td>-8.713660e-02</td>\n",
       "      <td>-2.570005e-01</td>\n",
       "      <td>-5.670500e-02</td>\n",
       "      <td>-3.404899e-01</td>\n",
       "    </tr>\n",
       "    <tr>\n",
       "      <th>max</th>\n",
       "      <td>6.525081e-02</td>\n",
       "      <td>8.247778e-02</td>\n",
       "      <td>-2.387843e-03</td>\n",
       "      <td>8.435351e-02</td>\n",
       "      <td>-3.662252e-02</td>\n",
       "    </tr>\n",
       "  </tbody>\n",
       "</table>\n",
       "</div>"
      ]
     },
     "execution_count": 26,
     "metadata": {},
     "output_type": "execute_result"
    }
   ],
   "source": [
    "for column_name in log_columns:\n",
    "    properties[column_name] = properties[column_name].apply(lambda x: np.log(x) if pd.notnull(x) else x)\n",
    "properties[log_columns].describe()"
   ]
  },
  {
   "cell_type": "code",
   "execution_count": 27,
   "metadata": {},
   "outputs": [
    {
     "data": {
      "text/html": [
       "<div>\n",
       "<table border=\"1\" class=\"dataframe\">\n",
       "  <thead>\n",
       "    <tr style=\"text-align: right;\">\n",
       "      <th></th>\n",
       "      <th>hashottuborspa</th>\n",
       "      <th>fireplaceflag</th>\n",
       "    </tr>\n",
       "  </thead>\n",
       "  <tbody>\n",
       "    <tr>\n",
       "      <th>count</th>\n",
       "      <td>69014</td>\n",
       "      <td>5163</td>\n",
       "    </tr>\n",
       "    <tr>\n",
       "      <th>unique</th>\n",
       "      <td>1</td>\n",
       "      <td>1</td>\n",
       "    </tr>\n",
       "    <tr>\n",
       "      <th>top</th>\n",
       "      <td>True</td>\n",
       "      <td>True</td>\n",
       "    </tr>\n",
       "    <tr>\n",
       "      <th>freq</th>\n",
       "      <td>69014</td>\n",
       "      <td>5163</td>\n",
       "    </tr>\n",
       "  </tbody>\n",
       "</table>\n",
       "</div>"
      ],
      "text/plain": [
       "<div>\n",
       "<table border=\"1\" class=\"dataframe\">\n",
       "  <thead>\n",
       "    <tr style=\"text-align: right;\">\n",
       "      <th></th>\n",
       "      <th>hashottuborspa</th>\n",
       "      <th>fireplaceflag</th>\n",
       "    </tr>\n",
       "  </thead>\n",
       "  <tbody>\n",
       "    <tr>\n",
       "      <th>count</th>\n",
       "      <td>69014</td>\n",
       "      <td>5163</td>\n",
       "    </tr>\n",
       "    <tr>\n",
       "      <th>unique</th>\n",
       "      <td>1</td>\n",
       "      <td>1</td>\n",
       "    </tr>\n",
       "    <tr>\n",
       "      <th>top</th>\n",
       "      <td>True</td>\n",
       "      <td>True</td>\n",
       "    </tr>\n",
       "    <tr>\n",
       "      <th>freq</th>\n",
       "      <td>69014</td>\n",
       "      <td>5163</td>\n",
       "    </tr>\n",
       "  </tbody>\n",
       "</table>\n",
       "</div>"
      ]
     },
     "execution_count": 27,
     "metadata": {},
     "output_type": "execute_result"
    }
   ],
   "source": [
    "# these are either one value or null, so we can tell the model that they're Boolean\n",
    "\n",
    "true_false_columns = ['hashottuborspa','fireplaceflag']\n",
    "properties[true_false_columns].describe()"
   ]
  },
  {
   "cell_type": "code",
   "execution_count": 28,
   "metadata": {},
   "outputs": [
    {
     "data": {
      "text/html": [
       "<div>\n",
       "<table border=\"1\" class=\"dataframe\">\n",
       "  <thead>\n",
       "    <tr style=\"text-align: right;\">\n",
       "      <th></th>\n",
       "      <th>hashottuborspa</th>\n",
       "      <th>fireplaceflag</th>\n",
       "    </tr>\n",
       "  </thead>\n",
       "  <tbody>\n",
       "    <tr>\n",
       "      <th>count</th>\n",
       "      <td>2985217</td>\n",
       "      <td>2985217</td>\n",
       "    </tr>\n",
       "    <tr>\n",
       "      <th>unique</th>\n",
       "      <td>2</td>\n",
       "      <td>2</td>\n",
       "    </tr>\n",
       "    <tr>\n",
       "      <th>top</th>\n",
       "      <td>False</td>\n",
       "      <td>False</td>\n",
       "    </tr>\n",
       "    <tr>\n",
       "      <th>freq</th>\n",
       "      <td>2916203</td>\n",
       "      <td>2980054</td>\n",
       "    </tr>\n",
       "  </tbody>\n",
       "</table>\n",
       "</div>"
      ],
      "text/plain": [
       "<div>\n",
       "<table border=\"1\" class=\"dataframe\">\n",
       "  <thead>\n",
       "    <tr style=\"text-align: right;\">\n",
       "      <th></th>\n",
       "      <th>hashottuborspa</th>\n",
       "      <th>fireplaceflag</th>\n",
       "    </tr>\n",
       "  </thead>\n",
       "  <tbody>\n",
       "    <tr>\n",
       "      <th>count</th>\n",
       "      <td>2985217</td>\n",
       "      <td>2985217</td>\n",
       "    </tr>\n",
       "    <tr>\n",
       "      <th>unique</th>\n",
       "      <td>2</td>\n",
       "      <td>2</td>\n",
       "    </tr>\n",
       "    <tr>\n",
       "      <th>top</th>\n",
       "      <td>False</td>\n",
       "      <td>False</td>\n",
       "    </tr>\n",
       "    <tr>\n",
       "      <th>freq</th>\n",
       "      <td>2916203</td>\n",
       "      <td>2980054</td>\n",
       "    </tr>\n",
       "  </tbody>\n",
       "</table>\n",
       "</div>"
      ]
     },
     "execution_count": 28,
     "metadata": {},
     "output_type": "execute_result"
    }
   ],
   "source": [
    "for column_name in true_false_columns:\n",
    "    properties[column_name] = properties[column_name].apply(lambda x: False if pd.isnull(x) else True)\n",
    "properties[true_false_columns].describe()"
   ]
  },
  {
   "cell_type": "code",
   "execution_count": 29,
   "metadata": {},
   "outputs": [
    {
     "name": "stdout",
     "output_type": "stream",
     "text": [
      "unique tax delinquency year values: [ nan  13.  15.  11.  14.   9.  10.   8.  12.   7.   6.   2.  92.   5.   3.\n   4.  95.  91.  93.  98.  82.  79.  94.  97.  90.  99.   0.   1.  87.  84.\n  86.  88.  96.]\n"
     ]
    }
   ],
   "source": [
    "# transform tax delinquency year\n",
    "print('unique tax delinquency year values: ' + str(properties['taxdelinquencyyear'].unique()))"
   ]
  },
  {
   "cell_type": "code",
   "execution_count": 30,
   "metadata": {},
   "outputs": [],
   "source": [
    "properties['taxdelinquencyyear'] = properties['taxdelinquencyyear'].apply(\n",
    "    lambda x: (17 - x if x < 20 else 117 - x) if pd.notnull(x) else x)"
   ]
  },
  {
   "cell_type": "code",
   "execution_count": 31,
   "metadata": {},
   "outputs": [
    {
     "name": "stdout",
     "output_type": "stream",
     "text": [
      "unique tax delinquency year values: [ nan   4.   2.   6.   3.   8.   7.   9.   5.  10.  11.  15.  25.  12.  14.\n  13.  22.  26.  24.  19.  35.  38.  23.  20.  27.  18.  17.  16.  30.  33.\n  31.  29.  21.]\n"
     ]
    }
   ],
   "source": [
    "print('unique tax delinquency year values: ' + str(properties['taxdelinquencyyear'].unique()))"
   ]
  },
  {
   "cell_type": "code",
   "execution_count": 32,
   "metadata": {},
   "outputs": [
    {
     "data": {
      "text/html": [
       "<div>\n",
       "<table border=\"1\" class=\"dataframe\">\n",
       "  <thead>\n",
       "    <tr style=\"text-align: right;\">\n",
       "      <th></th>\n",
       "      <th>latitude</th>\n",
       "      <th>longitude</th>\n",
       "    </tr>\n",
       "  </thead>\n",
       "  <tbody>\n",
       "    <tr>\n",
       "      <th>count</th>\n",
       "      <td>2.973780e+06</td>\n",
       "      <td>2.973780e+06</td>\n",
       "    </tr>\n",
       "    <tr>\n",
       "      <th>mean</th>\n",
       "      <td>3.400147e+07</td>\n",
       "      <td>-1.182019e+08</td>\n",
       "    </tr>\n",
       "    <tr>\n",
       "      <th>std</th>\n",
       "      <td>2.433812e+05</td>\n",
       "      <td>3.453171e+05</td>\n",
       "    </tr>\n",
       "    <tr>\n",
       "      <th>min</th>\n",
       "      <td>3.332439e+07</td>\n",
       "      <td>-1.194758e+08</td>\n",
       "    </tr>\n",
       "    <tr>\n",
       "      <th>25%</th>\n",
       "      <td>3.382768e+07</td>\n",
       "      <td>-1.183930e+08</td>\n",
       "    </tr>\n",
       "    <tr>\n",
       "      <th>50%</th>\n",
       "      <td>3.400825e+07</td>\n",
       "      <td>-1.181725e+08</td>\n",
       "    </tr>\n",
       "    <tr>\n",
       "      <th>75%</th>\n",
       "      <td>3.416186e+07</td>\n",
       "      <td>-1.179495e+08</td>\n",
       "    </tr>\n",
       "    <tr>\n",
       "      <th>max</th>\n",
       "      <td>3.481965e+07</td>\n",
       "      <td>-1.175543e+08</td>\n",
       "    </tr>\n",
       "  </tbody>\n",
       "</table>\n",
       "</div>"
      ],
      "text/plain": [
       "<div>\n",
       "<table border=\"1\" class=\"dataframe\">\n",
       "  <thead>\n",
       "    <tr style=\"text-align: right;\">\n",
       "      <th></th>\n",
       "      <th>latitude</th>\n",
       "      <th>longitude</th>\n",
       "    </tr>\n",
       "  </thead>\n",
       "  <tbody>\n",
       "    <tr>\n",
       "      <th>count</th>\n",
       "      <td>2.973780e+06</td>\n",
       "      <td>2.973780e+06</td>\n",
       "    </tr>\n",
       "    <tr>\n",
       "      <th>mean</th>\n",
       "      <td>3.400147e+07</td>\n",
       "      <td>-1.182019e+08</td>\n",
       "    </tr>\n",
       "    <tr>\n",
       "      <th>std</th>\n",
       "      <td>2.433812e+05</td>\n",
       "      <td>3.453171e+05</td>\n",
       "    </tr>\n",
       "    <tr>\n",
       "      <th>min</th>\n",
       "      <td>3.332439e+07</td>\n",
       "      <td>-1.194758e+08</td>\n",
       "    </tr>\n",
       "    <tr>\n",
       "      <th>25%</th>\n",
       "      <td>3.382768e+07</td>\n",
       "      <td>-1.183930e+08</td>\n",
       "    </tr>\n",
       "    <tr>\n",
       "      <th>50%</th>\n",
       "      <td>3.400825e+07</td>\n",
       "      <td>-1.181725e+08</td>\n",
       "    </tr>\n",
       "    <tr>\n",
       "      <th>75%</th>\n",
       "      <td>3.416186e+07</td>\n",
       "      <td>-1.179495e+08</td>\n",
       "    </tr>\n",
       "    <tr>\n",
       "      <th>max</th>\n",
       "      <td>3.481965e+07</td>\n",
       "      <td>-1.175543e+08</td>\n",
       "    </tr>\n",
       "  </tbody>\n",
       "</table>\n",
       "</div>"
      ]
     },
     "execution_count": 32,
     "metadata": {},
     "output_type": "execute_result"
    }
   ],
   "source": [
    "# scale the latitude and longitude using the min-max scaler\n",
    "location_columns = ['latitude', 'longitude']\n",
    "properties[location_columns].describe()"
   ]
  },
  {
   "cell_type": "code",
   "execution_count": 33,
   "metadata": {},
   "outputs": [
    {
     "data": {
      "text/html": [
       "<div>\n",
       "<table border=\"1\" class=\"dataframe\">\n",
       "  <thead>\n",
       "    <tr style=\"text-align: right;\">\n",
       "      <th></th>\n",
       "      <th>latitude</th>\n",
       "      <th>longitude</th>\n",
       "    </tr>\n",
       "  </thead>\n",
       "  <tbody>\n",
       "    <tr>\n",
       "      <th>count</th>\n",
       "      <td>2.985217e+06</td>\n",
       "      <td>2.985217e+06</td>\n",
       "    </tr>\n",
       "    <tr>\n",
       "      <th>mean</th>\n",
       "      <td>4.528174e-01</td>\n",
       "      <td>6.629559e-01</td>\n",
       "    </tr>\n",
       "    <tr>\n",
       "      <th>std</th>\n",
       "      <td>1.624562e-01</td>\n",
       "      <td>1.793710e-01</td>\n",
       "    </tr>\n",
       "    <tr>\n",
       "      <th>min</th>\n",
       "      <td>0.000000e+00</td>\n",
       "      <td>0.000000e+00</td>\n",
       "    </tr>\n",
       "    <tr>\n",
       "      <th>25%</th>\n",
       "      <td>3.369858e-01</td>\n",
       "      <td>5.640387e-01</td>\n",
       "    </tr>\n",
       "    <tr>\n",
       "      <th>50%</th>\n",
       "      <td>4.564712e-01</td>\n",
       "      <td>6.773080e-01</td>\n",
       "    </tr>\n",
       "    <tr>\n",
       "      <th>75%</th>\n",
       "      <td>5.597367e-01</td>\n",
       "      <td>7.939581e-01</td>\n",
       "    </tr>\n",
       "    <tr>\n",
       "      <th>max</th>\n",
       "      <td>1.000000e+00</td>\n",
       "      <td>1.000000e+00</td>\n",
       "    </tr>\n",
       "  </tbody>\n",
       "</table>\n",
       "</div>"
      ],
      "text/plain": [
       "<div>\n",
       "<table border=\"1\" class=\"dataframe\">\n",
       "  <thead>\n",
       "    <tr style=\"text-align: right;\">\n",
       "      <th></th>\n",
       "      <th>latitude</th>\n",
       "      <th>longitude</th>\n",
       "    </tr>\n",
       "  </thead>\n",
       "  <tbody>\n",
       "    <tr>\n",
       "      <th>count</th>\n",
       "      <td>2.985217e+06</td>\n",
       "      <td>2.985217e+06</td>\n",
       "    </tr>\n",
       "    <tr>\n",
       "      <th>mean</th>\n",
       "      <td>4.528174e-01</td>\n",
       "      <td>6.629559e-01</td>\n",
       "    </tr>\n",
       "    <tr>\n",
       "      <th>std</th>\n",
       "      <td>1.624562e-01</td>\n",
       "      <td>1.793710e-01</td>\n",
       "    </tr>\n",
       "    <tr>\n",
       "      <th>min</th>\n",
       "      <td>0.000000e+00</td>\n",
       "      <td>0.000000e+00</td>\n",
       "    </tr>\n",
       "    <tr>\n",
       "      <th>25%</th>\n",
       "      <td>3.369858e-01</td>\n",
       "      <td>5.640387e-01</td>\n",
       "    </tr>\n",
       "    <tr>\n",
       "      <th>50%</th>\n",
       "      <td>4.564712e-01</td>\n",
       "      <td>6.773080e-01</td>\n",
       "    </tr>\n",
       "    <tr>\n",
       "      <th>75%</th>\n",
       "      <td>5.597367e-01</td>\n",
       "      <td>7.939581e-01</td>\n",
       "    </tr>\n",
       "    <tr>\n",
       "      <th>max</th>\n",
       "      <td>1.000000e+00</td>\n",
       "      <td>1.000000e+00</td>\n",
       "    </tr>\n",
       "  </tbody>\n",
       "</table>\n",
       "</div>"
      ]
     },
     "execution_count": 33,
     "metadata": {},
     "output_type": "execute_result"
    }
   ],
   "source": [
    "from sklearn.preprocessing import MinMaxScaler\n",
    "\n",
    "min_max_scaler = MinMaxScaler(copy=True)\n",
    "scaled_columns = list()\n",
    "for column_name in location_columns:\n",
    "    mean_value = properties[column_name].mean()\n",
    "    properties[column_name].fillna(inplace=True, value=mean_value)\n",
    "    scaled_columns.append(column_name)\n",
    "properties[scaled_columns] = min_max_scaler.fit_transform(properties[scaled_columns])\n",
    "properties[location_columns].describe()"
   ]
  },
  {
   "cell_type": "code",
   "execution_count": 34,
   "metadata": {},
   "outputs": [],
   "source": [
    "# label encoding for several coded features\n",
    "from sklearn.preprocessing import LabelEncoder\n",
    "label_encode_columns = ['propertycountylandusecode', 'propertyzoningdesc', 'fips', 'regionidzip']\n",
    "for column_name in label_encode_columns:\n",
    "    if column_name in ['fips', 'regionidzip']:\n",
    "        properties[column_name] = properties[column_name].fillna('ZZZ')\n",
    "    label_encoder = LabelEncoder()\n",
    "    label_encoder.fit(list(properties[column_name].values))\n",
    "    properties[column_name] = label_encoder.transform(list(properties[column_name].values))"
   ]
  },
  {
   "cell_type": "code",
   "execution_count": 35,
   "metadata": {},
   "outputs": [
    {
     "name": "stdout",
     "output_type": "stream",
     "text": [
      "<class 'pandas.core.frame.DataFrame'>\nRangeIndex: 2985217 entries, 0 to 2985216\nData columns (total 58 columns):\nparcelid                        int64\nairconditioningtypeid           float64\narchitecturalstyletypeid        float64\nbasementsqft                    float64\nbathroomcnt                     float64\nbedroomcnt                      float64\nbuildingclasstypeid             float64\nbuildingqualitytypeid           float64\ncalculatedbathnbr               float64\ndecktypeid                      float64\nfinishedfloor1squarefeet        float64\ncalculatedfinishedsquarefeet    float64\nfinishedsquarefeet12            float64\nfinishedsquarefeet13            float64\nfinishedsquarefeet15            float64\nfinishedsquarefeet50            float64\nfinishedsquarefeet6             float64\nfips                            int64\nfireplacecnt                    float64\nfullbathcnt                     float64\ngaragecarcnt                    float64\ngaragetotalsqft                 float64\nhashottuborspa                  bool\nheatingorsystemtypeid           float64\nlatitude                        float64\nlongitude                       float64\nlotsizesquarefeet               float64\npoolcnt                         float64\npoolsizesum                     float64\npooltypeid10                    float64\npooltypeid2                     float64\npooltypeid7                     float64\npropertycountylandusecode       int64\npropertylandusetypeid           float64\npropertyzoningdesc              int64\nrawcensustractandblock          float64\nregionidcity                    float64\nregionidcounty                  float64\nregionidneighborhood            float64\nregionidzip                     int64\nroomcnt                         float64\nstorytypeid                     float64\nthreequarterbathnbr             float64\ntypeconstructiontypeid          float64\nunitcnt                         float64\nyardbuildingsqft17              float64\nyardbuildingsqft26              float64\nyearbuilt                       float64\nnumberofstories                 float64\nfireplaceflag                   bool\nstructuretaxvaluedollarcnt      float64\ntaxvaluedollarcnt               float64\nassessmentyear                  float64\nlandtaxvaluedollarcnt           float64\ntaxamount                       float64\ntaxdelinquencyflag              bool\ntaxdelinquencyyear              float64\ncensustractandblock             float64\ndtypes: bool(3), float64(50), int64(5)\nmemory usage: 1.2 GB\nNone\n"
     ]
    }
   ],
   "source": [
    "print (properties.info())"
   ]
  },
  {
   "cell_type": "code",
   "execution_count": 36,
   "metadata": {},
   "outputs": [
    {
     "name": "stdout",
     "output_type": "stream",
     "text": [
      "<class 'pandas.core.frame.DataFrame'>\nRangeIndex: 2985217 entries, 0 to 2985216\nData columns (total 52 columns):\nparcelid                        int64\nairconditioningtypeid           float64\narchitecturalstyletypeid        float64\nbasementsqft                    float64\nbathroomcnt                     float64\nbedroomcnt                      float64\nbuildingclasstypeid             float64\nbuildingqualitytypeid           float64\ncalculatedbathnbr               float64\ndecktypeid                      float64\nfinishedfloor1squarefeet        float64\ncalculatedfinishedsquarefeet    float64\nfinishedsquarefeet12            float64\nfinishedsquarefeet13            float64\nfinishedsquarefeet15            float64\nfinishedsquarefeet50            float64\nfinishedsquarefeet6             float64\nfips                            int64\nfireplacecnt                    float64\nfullbathcnt                     float64\ngaragecarcnt                    float64\ngaragetotalsqft                 float64\nhashottuborspa                  bool\nheatingorsystemtypeid           float64\nlatitude                        float64\nlongitude                       float64\nlotsizesquarefeet               float64\npoolcnt                         float64\npoolsizesum                     float64\npooltypeid2                     float64\npooltypeid7                     float64\npropertycountylandusecode       int64\npropertylandusetypeid           float64\npropertyzoningdesc              int64\nrawcensustractandblock          float64\nregionidcity                    float64\nregionidneighborhood            float64\nregionidzip                     int64\nroomcnt                         float64\nthreequarterbathnbr             float64\nunitcnt                         float64\nyardbuildingsqft17              float64\nyardbuildingsqft26              float64\nyearbuilt                       float64\nnumberofstories                 float64\nstructuretaxvaluedollarcnt      float64\ntaxvaluedollarcnt               float64\nlandtaxvaluedollarcnt           float64\ntaxamount                       float64\ntaxdelinquencyflag              bool\ntaxdelinquencyyear              float64\ncensustractandblock             float64\ndtypes: bool(2), float64(45), int64(5)\nmemory usage: 1.1 GB\nNone\n"
     ]
    }
   ],
   "source": [
    "# finally drop columns earlier model runs have told us are not significant\n",
    "\n",
    "properties = properties.drop(\n",
    "    [\n",
    "        'regionidcounty',\n",
    "        'assessmentyear',\n",
    "        'fireplaceflag',\n",
    "        'pooltypeid10',\n",
    "        'storytypeid',\n",
    "        'typeconstructiontypeid'\n",
    "    ], axis=1)\n",
    "print (properties.info())"
   ]
  },
  {
   "cell_type": "code",
   "execution_count": 37,
   "metadata": {},
   "outputs": [
    {
     "name": "stdout",
     "output_type": "stream",
     "text": [
      "train shape: ((90275, 51),), test shape: ((2985217, 51),)\n"
     ]
    }
   ],
   "source": [
    "# merge the properties and transaction data to get the traiing data\n",
    "train_df = train.merge(properties, how='left', on='parcelid')\n",
    "x_train = train_df.drop(['parcelid', 'logerror', 'transactiondate'], axis=1)\n",
    "test_columns_to_drop = ['parcelid']\n",
    "x_test = properties.drop(test_columns_to_drop, axis=1)\n",
    "print ('train shape: %s, test shape: %s' % ((x_train.shape,), (x_test.shape,)))"
   ]
  },
  {
   "cell_type": "code",
   "execution_count": 38,
   "metadata": {},
   "outputs": [
    {
     "name": "stdout",
     "output_type": "stream",
     "text": [
      "after outlier filtering, train shape: ((88799, 54),), test shape: ((2985217, 51),)\n"
     ]
    }
   ],
   "source": [
    "# filter outliers \n",
    "lower_limit = -0.4\n",
    "upper_limit = 0.5\n",
    "train_df = train_df[(train_df.logerror < upper_limit) & (train_df.logerror > lower_limit)]\n",
    "print ('after outlier filtering, train shape: %s, test shape: %s' % ((train_df.shape,), (x_test.shape,)))"
   ]
  },
  {
   "cell_type": "code",
   "execution_count": 41,
   "metadata": {},
   "outputs": [
    {
     "name": "stdout",
     "output_type": "stream",
     "text": [
      "y_train shape: (88799,)\ny_mean (the XGBoost base score) = 0.009000\n"
     ]
    }
   ],
   "source": [
    "# build the XGBoost matrices and get the log-error mean\n",
    "import xgboost as xgb\n",
    "\n",
    "train_columns_to_drop = ['parcelid', 'logerror', 'transactiondate'] \n",
    "x_train = train_df.drop(train_columns_to_drop, axis=1)\n",
    "y_train = train_df['logerror'].values.astype(np.float32)\n",
    "y_mean = np.mean(y_train)\n",
    "print ('y_train shape: %s' % (y_train.shape,))\n",
    "print ('y_mean (the XGBoost base score) = %.6f' % y_mean)\n",
    "\n",
    "dtrain = xgb.DMatrix(x_train, label=y_train)\n",
    "dtest = xgb.DMatrix(x_test)"
   ]
  },
  {
   "cell_type": "code",
   "execution_count": 42,
   "metadata": {},
   "outputs": [],
   "source": [
    "# xgboost parameters\n",
    "random_seed = 1\n",
    "xgboost_parameters = {\n",
    "    'alpha': 0.0,\n",
    "    'base_score': y_mean,\n",
    "    'booster': 'gbtree',\n",
    "    'colsample_bytree': 1.0,\n",
    "    'eta': 0.025,  #  default = 0.03 \n",
    "    'eval_metric': 'mae',\n",
    "    'gamma': 0.0,  # default is 0\n",
    "    'lambda': 1.05,  # default is 1.0\n",
    "    'max_depth': 7,  #  default = 6\n",
    "    'objective': 'reg:linear',\n",
    "    'seed': random_seed,\n",
    "    'silent': 1,\n",
    "    'subsample': 0.7\n",
    "}"
   ]
  },
  {
   "cell_type": "code",
   "execution_count": 43,
   "metadata": {},
   "outputs": [
    {
     "name": "stdout",
     "output_type": "stream",
     "text": [
      "[0]\ttrain-mae:0.0545467\ttest-mae:0.0545604\n"
     ]
    },
    {
     "name": "stdout",
     "output_type": "stream",
     "text": [
      "[5]\ttrain-mae:0.0543419\ttest-mae:0.0544299\n"
     ]
    },
    {
     "name": "stdout",
     "output_type": "stream",
     "text": [
      "[10]\ttrain-mae:0.0541683\ttest-mae:0.0543294\n"
     ]
    },
    {
     "name": "stdout",
     "output_type": "stream",
     "text": [
      "[15]\ttrain-mae:0.0540206\ttest-mae:0.0542487\n"
     ]
    },
    {
     "name": "stdout",
     "output_type": "stream",
     "text": [
      "[20]\ttrain-mae:0.0538866\ttest-mae:0.0541883\n"
     ]
    },
    {
     "name": "stdout",
     "output_type": "stream",
     "text": [
      "[25]\ttrain-mae:0.053772\ttest-mae:0.0541451\n"
     ]
    },
    {
     "name": "stdout",
     "output_type": "stream",
     "text": [
      "[30]\ttrain-mae:0.0536715\ttest-mae:0.0541064\n"
     ]
    },
    {
     "name": "stdout",
     "output_type": "stream",
     "text": [
      "[35]\ttrain-mae:0.0535786\ttest-mae:0.0540785\n"
     ]
    },
    {
     "name": "stdout",
     "output_type": "stream",
     "text": [
      "[40]\ttrain-mae:0.0534919\ttest-mae:0.0540557\n"
     ]
    },
    {
     "name": "stdout",
     "output_type": "stream",
     "text": [
      "[45]\ttrain-mae:0.0534104\ttest-mae:0.0540326\n"
     ]
    },
    {
     "name": "stdout",
     "output_type": "stream",
     "text": [
      "[50]\ttrain-mae:0.0533382\ttest-mae:0.0540154\n"
     ]
    },
    {
     "name": "stdout",
     "output_type": "stream",
     "text": [
      "[55]\ttrain-mae:0.0532675\ttest-mae:0.054001\n"
     ]
    },
    {
     "name": "stdout",
     "output_type": "stream",
     "text": [
      "[60]\ttrain-mae:0.0532069\ttest-mae:0.053989\n"
     ]
    },
    {
     "name": "stdout",
     "output_type": "stream",
     "text": [
      "[65]\ttrain-mae:0.0531439\ttest-mae:0.0539778\n"
     ]
    },
    {
     "name": "stdout",
     "output_type": "stream",
     "text": [
      "[70]\ttrain-mae:0.053085\ttest-mae:0.0539653\n"
     ]
    },
    {
     "name": "stdout",
     "output_type": "stream",
     "text": [
      "[75]\ttrain-mae:0.053033\ttest-mae:0.053957\n"
     ]
    },
    {
     "name": "stdout",
     "output_type": "stream",
     "text": [
      "[80]\ttrain-mae:0.0529857\ttest-mae:0.0539514\n"
     ]
    },
    {
     "name": "stdout",
     "output_type": "stream",
     "text": [
      "[85]\ttrain-mae:0.0529372\ttest-mae:0.0539476\n"
     ]
    },
    {
     "name": "stdout",
     "output_type": "stream",
     "text": [
      "[90]\ttrain-mae:0.052885\ttest-mae:0.0539405\n"
     ]
    },
    {
     "name": "stdout",
     "output_type": "stream",
     "text": [
      "[95]\ttrain-mae:0.0528424\ttest-mae:0.0539323\n"
     ]
    },
    {
     "name": "stdout",
     "output_type": "stream",
     "text": [
      "[100]\ttrain-mae:0.0527981\ttest-mae:0.053928\n"
     ]
    },
    {
     "name": "stdout",
     "output_type": "stream",
     "text": [
      "[105]\ttrain-mae:0.0527533\ttest-mae:0.0539257\n"
     ]
    },
    {
     "name": "stdout",
     "output_type": "stream",
     "text": [
      "[110]\ttrain-mae:0.052713\ttest-mae:0.0539218\n"
     ]
    },
    {
     "name": "stdout",
     "output_type": "stream",
     "text": [
      "[115]\ttrain-mae:0.0526721\ttest-mae:0.0539175\n"
     ]
    },
    {
     "name": "stdout",
     "output_type": "stream",
     "text": [
      "[120]\ttrain-mae:0.0526317\ttest-mae:0.0539134\n"
     ]
    },
    {
     "name": "stdout",
     "output_type": "stream",
     "text": [
      "[125]\ttrain-mae:0.0525976\ttest-mae:0.0539102\n"
     ]
    },
    {
     "name": "stdout",
     "output_type": "stream",
     "text": [
      "[130]\ttrain-mae:0.0525595\ttest-mae:0.05391\n"
     ]
    },
    {
     "name": "stdout",
     "output_type": "stream",
     "text": [
      "[135]\ttrain-mae:0.0525241\ttest-mae:0.0539085\n"
     ]
    },
    {
     "name": "stdout",
     "output_type": "stream",
     "text": [
      "[140]\ttrain-mae:0.052486\ttest-mae:0.0539046\n"
     ]
    },
    {
     "name": "stdout",
     "output_type": "stream",
     "text": [
      "[145]\ttrain-mae:0.0524518\ttest-mae:0.0539018\n"
     ]
    },
    {
     "name": "stdout",
     "output_type": "stream",
     "text": [
      "[150]\ttrain-mae:0.0524177\ttest-mae:0.0538983\n"
     ]
    },
    {
     "name": "stdout",
     "output_type": "stream",
     "text": [
      "[155]\ttrain-mae:0.0523809\ttest-mae:0.0538984\n"
     ]
    },
    {
     "name": "stdout",
     "output_type": "stream",
     "text": [
      "[160]\ttrain-mae:0.052345\ttest-mae:0.0538954\n"
     ]
    },
    {
     "name": "stdout",
     "output_type": "stream",
     "text": [
      "[165]\ttrain-mae:0.0523151\ttest-mae:0.0538952\n"
     ]
    },
    {
     "name": "stdout",
     "output_type": "stream",
     "text": [
      "[170]\ttrain-mae:0.0522795\ttest-mae:0.053894\n"
     ]
    },
    {
     "name": "stdout",
     "output_type": "stream",
     "text": [
      "[175]\ttrain-mae:0.0522492\ttest-mae:0.0538936\n"
     ]
    },
    {
     "name": "stdout",
     "output_type": "stream",
     "text": [
      "[180]\ttrain-mae:0.0522139\ttest-mae:0.0538924\n"
     ]
    },
    {
     "name": "stdout",
     "output_type": "stream",
     "text": [
      "[185]\ttrain-mae:0.0521819\ttest-mae:0.0538928\n"
     ]
    },
    {
     "name": "stdout",
     "output_type": "stream",
     "text": [
      "[190]\ttrain-mae:0.0521438\ttest-mae:0.053894\n"
     ]
    },
    {
     "name": "stdout",
     "output_type": "stream",
     "text": [
      "[195]\ttrain-mae:0.0521117\ttest-mae:0.0538932\n"
     ]
    },
    {
     "name": "stdout",
     "output_type": "stream",
     "text": [
      "[200]\ttrain-mae:0.0520795\ttest-mae:0.0538939\n"
     ]
    },
    {
     "name": "stdout",
     "output_type": "stream",
     "text": [
      "[205]\ttrain-mae:0.0520469\ttest-mae:0.0538928\n"
     ]
    },
    {
     "name": "stdout",
     "output_type": "stream",
     "text": [
      "[210]\ttrain-mae:0.052016\ttest-mae:0.053896\n"
     ]
    },
    {
     "name": "stdout",
     "output_type": "stream",
     "text": [
      "[215]\ttrain-mae:0.0519846\ttest-mae:0.0538962\n"
     ]
    },
    {
     "name": "stdout",
     "output_type": "stream",
     "text": [
      "[220]\ttrain-mae:0.0519501\ttest-mae:0.0538973\n"
     ]
    },
    {
     "name": "stdout",
     "output_type": "stream",
     "text": [
      "[225]\ttrain-mae:0.0519182\ttest-mae:0.0538995\n"
     ]
    },
    {
     "name": "stdout",
     "output_type": "stream",
     "text": [
      "[230]\ttrain-mae:0.0518878\ttest-mae:0.0539016\n"
     ]
    },
    {
     "name": "stdout",
     "output_type": "stream",
     "text": [
      "[235]\ttrain-mae:0.0518564\ttest-mae:0.0539044\n"
     ]
    },
    {
     "name": "stdout",
     "output_type": "stream",
     "text": [
      "[240]\ttrain-mae:0.0518275\ttest-mae:0.0539041\n"
     ]
    },
    {
     "name": "stdout",
     "output_type": "stream",
     "text": [
      "[245]\ttrain-mae:0.0517979\ttest-mae:0.0539045\n"
     ]
    },
    {
     "name": "stdout",
     "output_type": "stream",
     "text": [
      "[250]\ttrain-mae:0.0517716\ttest-mae:0.0539064\n"
     ]
    },
    {
     "name": "stdout",
     "output_type": "stream",
     "text": [
      "[255]\ttrain-mae:0.0517405\ttest-mae:0.0539068\n"
     ]
    },
    {
     "name": "stdout",
     "output_type": "stream",
     "text": [
      "[260]\ttrain-mae:0.0517039\ttest-mae:0.0539059\n"
     ]
    },
    {
     "name": "stdout",
     "output_type": "stream",
     "text": [
      "[265]\ttrain-mae:0.0516747\ttest-mae:0.0539065\n"
     ]
    },
    {
     "name": "stdout",
     "output_type": "stream",
     "text": [
      "[270]\ttrain-mae:0.0516473\ttest-mae:0.0539084\n"
     ]
    },
    {
     "name": "stdout",
     "output_type": "stream",
     "text": [
      "[275]\ttrain-mae:0.0516166\ttest-mae:0.0539081\n"
     ]
    },
    {
     "name": "stdout",
     "output_type": "stream",
     "text": [
      "[280]\ttrain-mae:0.0515881\ttest-mae:0.053907\n"
     ]
    }
   ],
   "source": [
    "# cross-validation\n",
    "cross_validation_nfold = 8\n",
    "xgb_boost_rounds = 1200\n",
    "\n",
    "cv_result = xgb.cv(xgboost_parameters, dtrain,\n",
    "                   early_stopping_rounds=100, \n",
    "                   nfold=cross_validation_nfold,\n",
    "                   num_boost_round=xgb_boost_rounds,\n",
    "                   seed=random_seed,\n",
    "                   show_stdv=False,\n",
    "                   verbose_eval=5)\n",
    "actual_boost_rounds = len(cv_result)"
   ]
  },
  {
   "cell_type": "code",
   "execution_count": 44,
   "metadata": {},
   "outputs": [
    {
     "name": "stdout",
     "output_type": "stream",
     "text": [
      "for cross-validation we actually used 184 rounds\n"
     ]
    }
   ],
   "source": [
    "print('for cross-validation we actually used %d rounds' % actual_boost_rounds)"
   ]
  },
  {
   "cell_type": "code",
   "execution_count": 45,
   "metadata": {},
   "outputs": [
    {
     "name": "stdout",
     "output_type": "stream",
     "text": [
      "[0]\ttrain-mae:0.054546\n"
     ]
    },
    {
     "name": "stdout",
     "output_type": "stream",
     "text": [
      "[1]\ttrain-mae:0.054505\n"
     ]
    },
    {
     "name": "stdout",
     "output_type": "stream",
     "text": [
      "[2]\ttrain-mae:0.054463\n"
     ]
    },
    {
     "name": "stdout",
     "output_type": "stream",
     "text": [
      "[3]\ttrain-mae:0.054425\n"
     ]
    },
    {
     "name": "stdout",
     "output_type": "stream",
     "text": [
      "[4]\ttrain-mae:0.054388\n"
     ]
    },
    {
     "name": "stdout",
     "output_type": "stream",
     "text": [
      "[5]\ttrain-mae:0.054349\n"
     ]
    },
    {
     "name": "stdout",
     "output_type": "stream",
     "text": [
      "[6]\ttrain-mae:0.054312\n"
     ]
    },
    {
     "name": "stdout",
     "output_type": "stream",
     "text": [
      "[7]\ttrain-mae:0.054275\n"
     ]
    },
    {
     "name": "stdout",
     "output_type": "stream",
     "text": [
      "[8]\ttrain-mae:0.054241\n"
     ]
    },
    {
     "name": "stdout",
     "output_type": "stream",
     "text": [
      "[9]\ttrain-mae:0.05421\n"
     ]
    },
    {
     "name": "stdout",
     "output_type": "stream",
     "text": [
      "[10]\ttrain-mae:0.054176\n"
     ]
    },
    {
     "name": "stdout",
     "output_type": "stream",
     "text": [
      "[11]\ttrain-mae:0.05414\n"
     ]
    },
    {
     "name": "stdout",
     "output_type": "stream",
     "text": [
      "[12]\ttrain-mae:0.054108\n"
     ]
    },
    {
     "name": "stdout",
     "output_type": "stream",
     "text": [
      "[13]\ttrain-mae:0.054081\n"
     ]
    },
    {
     "name": "stdout",
     "output_type": "stream",
     "text": [
      "[14]\ttrain-mae:0.054054\n"
     ]
    },
    {
     "name": "stdout",
     "output_type": "stream",
     "text": [
      "[15]\ttrain-mae:0.054025\n"
     ]
    },
    {
     "name": "stdout",
     "output_type": "stream",
     "text": [
      "[16]\ttrain-mae:0.054001\n"
     ]
    },
    {
     "name": "stdout",
     "output_type": "stream",
     "text": [
      "[17]\ttrain-mae:0.053977\n"
     ]
    },
    {
     "name": "stdout",
     "output_type": "stream",
     "text": [
      "[18]\ttrain-mae:0.053955\n"
     ]
    },
    {
     "name": "stdout",
     "output_type": "stream",
     "text": [
      "[19]\ttrain-mae:0.053932\n"
     ]
    },
    {
     "name": "stdout",
     "output_type": "stream",
     "text": [
      "[20]\ttrain-mae:0.053905\n"
     ]
    },
    {
     "name": "stdout",
     "output_type": "stream",
     "text": [
      "[21]\ttrain-mae:0.053883\n"
     ]
    },
    {
     "name": "stdout",
     "output_type": "stream",
     "text": [
      "[22]\ttrain-mae:0.053859\n"
     ]
    },
    {
     "name": "stdout",
     "output_type": "stream",
     "text": [
      "[23]\ttrain-mae:0.053834\n"
     ]
    },
    {
     "name": "stdout",
     "output_type": "stream",
     "text": [
      "[24]\ttrain-mae:0.053816\n"
     ]
    },
    {
     "name": "stdout",
     "output_type": "stream",
     "text": [
      "[25]\ttrain-mae:0.053796\n"
     ]
    },
    {
     "name": "stdout",
     "output_type": "stream",
     "text": [
      "[26]\ttrain-mae:0.053775\n"
     ]
    },
    {
     "name": "stdout",
     "output_type": "stream",
     "text": [
      "[27]\ttrain-mae:0.053756\n"
     ]
    },
    {
     "name": "stdout",
     "output_type": "stream",
     "text": [
      "[28]\ttrain-mae:0.053735\n"
     ]
    },
    {
     "name": "stdout",
     "output_type": "stream",
     "text": [
      "[29]\ttrain-mae:0.053712\n"
     ]
    },
    {
     "name": "stdout",
     "output_type": "stream",
     "text": [
      "[30]\ttrain-mae:0.053693\n"
     ]
    },
    {
     "name": "stdout",
     "output_type": "stream",
     "text": [
      "[31]\ttrain-mae:0.053673\n"
     ]
    },
    {
     "name": "stdout",
     "output_type": "stream",
     "text": [
      "[32]\ttrain-mae:0.053659\n"
     ]
    },
    {
     "name": "stdout",
     "output_type": "stream",
     "text": [
      "[33]\ttrain-mae:0.053643\n"
     ]
    },
    {
     "name": "stdout",
     "output_type": "stream",
     "text": [
      "[34]\ttrain-mae:0.053627\n"
     ]
    },
    {
     "name": "stdout",
     "output_type": "stream",
     "text": [
      "[35]\ttrain-mae:0.05361\n"
     ]
    },
    {
     "name": "stdout",
     "output_type": "stream",
     "text": [
      "[36]\ttrain-mae:0.053596\n"
     ]
    },
    {
     "name": "stdout",
     "output_type": "stream",
     "text": [
      "[37]\ttrain-mae:0.053578\n"
     ]
    },
    {
     "name": "stdout",
     "output_type": "stream",
     "text": [
      "[38]\ttrain-mae:0.053561\n"
     ]
    },
    {
     "name": "stdout",
     "output_type": "stream",
     "text": [
      "[39]\ttrain-mae:0.053544\n"
     ]
    },
    {
     "name": "stdout",
     "output_type": "stream",
     "text": [
      "[40]\ttrain-mae:0.053526\n"
     ]
    },
    {
     "name": "stdout",
     "output_type": "stream",
     "text": [
      "[41]\ttrain-mae:0.053512\n"
     ]
    },
    {
     "name": "stdout",
     "output_type": "stream",
     "text": [
      "[42]\ttrain-mae:0.053498\n"
     ]
    },
    {
     "name": "stdout",
     "output_type": "stream",
     "text": [
      "[43]\ttrain-mae:0.05348\n"
     ]
    },
    {
     "name": "stdout",
     "output_type": "stream",
     "text": [
      "[44]\ttrain-mae:0.053462\n"
     ]
    },
    {
     "name": "stdout",
     "output_type": "stream",
     "text": [
      "[45]\ttrain-mae:0.053453\n"
     ]
    },
    {
     "name": "stdout",
     "output_type": "stream",
     "text": [
      "[46]\ttrain-mae:0.053434\n"
     ]
    },
    {
     "name": "stdout",
     "output_type": "stream",
     "text": [
      "[47]\ttrain-mae:0.053419\n"
     ]
    },
    {
     "name": "stdout",
     "output_type": "stream",
     "text": [
      "[48]\ttrain-mae:0.053404\n"
     ]
    },
    {
     "name": "stdout",
     "output_type": "stream",
     "text": [
      "[49]\ttrain-mae:0.053393\n"
     ]
    },
    {
     "name": "stdout",
     "output_type": "stream",
     "text": [
      "[50]\ttrain-mae:0.053383\n"
     ]
    },
    {
     "name": "stdout",
     "output_type": "stream",
     "text": [
      "[51]\ttrain-mae:0.05337\n"
     ]
    },
    {
     "name": "stdout",
     "output_type": "stream",
     "text": [
      "[52]\ttrain-mae:0.053353\n"
     ]
    },
    {
     "name": "stdout",
     "output_type": "stream",
     "text": [
      "[53]\ttrain-mae:0.05334\n"
     ]
    },
    {
     "name": "stdout",
     "output_type": "stream",
     "text": [
      "[54]\ttrain-mae:0.05333\n"
     ]
    },
    {
     "name": "stdout",
     "output_type": "stream",
     "text": [
      "[55]\ttrain-mae:0.053318\n"
     ]
    },
    {
     "name": "stdout",
     "output_type": "stream",
     "text": [
      "[56]\ttrain-mae:0.053301\n"
     ]
    },
    {
     "name": "stdout",
     "output_type": "stream",
     "text": [
      "[57]\ttrain-mae:0.053292\n"
     ]
    },
    {
     "name": "stdout",
     "output_type": "stream",
     "text": [
      "[58]\ttrain-mae:0.053282\n"
     ]
    },
    {
     "name": "stdout",
     "output_type": "stream",
     "text": [
      "[59]\ttrain-mae:0.053271\n"
     ]
    },
    {
     "name": "stdout",
     "output_type": "stream",
     "text": [
      "[60]\ttrain-mae:0.05326\n"
     ]
    },
    {
     "name": "stdout",
     "output_type": "stream",
     "text": [
      "[61]\ttrain-mae:0.05325\n"
     ]
    },
    {
     "name": "stdout",
     "output_type": "stream",
     "text": [
      "[62]\ttrain-mae:0.053242\n"
     ]
    },
    {
     "name": "stdout",
     "output_type": "stream",
     "text": [
      "[63]\ttrain-mae:0.053236\n"
     ]
    },
    {
     "name": "stdout",
     "output_type": "stream",
     "text": [
      "[64]\ttrain-mae:0.053223\n"
     ]
    },
    {
     "name": "stdout",
     "output_type": "stream",
     "text": [
      "[65]\ttrain-mae:0.053215\n"
     ]
    },
    {
     "name": "stdout",
     "output_type": "stream",
     "text": [
      "[66]\ttrain-mae:0.053203\n"
     ]
    },
    {
     "name": "stdout",
     "output_type": "stream",
     "text": [
      "[67]\ttrain-mae:0.053197\n"
     ]
    },
    {
     "name": "stdout",
     "output_type": "stream",
     "text": [
      "[68]\ttrain-mae:0.053186\n"
     ]
    },
    {
     "name": "stdout",
     "output_type": "stream",
     "text": [
      "[69]\ttrain-mae:0.053174\n"
     ]
    },
    {
     "name": "stdout",
     "output_type": "stream",
     "text": [
      "[70]\ttrain-mae:0.053164\n"
     ]
    },
    {
     "name": "stdout",
     "output_type": "stream",
     "text": [
      "[71]\ttrain-mae:0.053157\n"
     ]
    },
    {
     "name": "stdout",
     "output_type": "stream",
     "text": [
      "[72]\ttrain-mae:0.053141\n"
     ]
    },
    {
     "name": "stdout",
     "output_type": "stream",
     "text": [
      "[73]\ttrain-mae:0.053127\n"
     ]
    },
    {
     "name": "stdout",
     "output_type": "stream",
     "text": [
      "[74]\ttrain-mae:0.053111\n"
     ]
    },
    {
     "name": "stdout",
     "output_type": "stream",
     "text": [
      "[75]\ttrain-mae:0.053101\n"
     ]
    },
    {
     "name": "stdout",
     "output_type": "stream",
     "text": [
      "[76]\ttrain-mae:0.053096\n"
     ]
    },
    {
     "name": "stdout",
     "output_type": "stream",
     "text": [
      "[77]\ttrain-mae:0.053085\n"
     ]
    },
    {
     "name": "stdout",
     "output_type": "stream",
     "text": [
      "[78]\ttrain-mae:0.053071\n"
     ]
    },
    {
     "name": "stdout",
     "output_type": "stream",
     "text": [
      "[79]\ttrain-mae:0.053057\n"
     ]
    },
    {
     "name": "stdout",
     "output_type": "stream",
     "text": [
      "[80]\ttrain-mae:0.053052\n"
     ]
    },
    {
     "name": "stdout",
     "output_type": "stream",
     "text": [
      "[81]\ttrain-mae:0.053038\n"
     ]
    },
    {
     "name": "stdout",
     "output_type": "stream",
     "text": [
      "[82]\ttrain-mae:0.053028\n"
     ]
    },
    {
     "name": "stdout",
     "output_type": "stream",
     "text": [
      "[83]\ttrain-mae:0.053019\n"
     ]
    },
    {
     "name": "stdout",
     "output_type": "stream",
     "text": [
      "[84]\ttrain-mae:0.053006\n"
     ]
    },
    {
     "name": "stdout",
     "output_type": "stream",
     "text": [
      "[85]\ttrain-mae:0.052996\n"
     ]
    },
    {
     "name": "stdout",
     "output_type": "stream",
     "text": [
      "[86]\ttrain-mae:0.052978\n"
     ]
    },
    {
     "name": "stdout",
     "output_type": "stream",
     "text": [
      "[87]\ttrain-mae:0.052968\n"
     ]
    },
    {
     "name": "stdout",
     "output_type": "stream",
     "text": [
      "[88]\ttrain-mae:0.052955\n"
     ]
    },
    {
     "name": "stdout",
     "output_type": "stream",
     "text": [
      "[89]\ttrain-mae:0.052948\n"
     ]
    },
    {
     "name": "stdout",
     "output_type": "stream",
     "text": [
      "[90]\ttrain-mae:0.052938\n"
     ]
    },
    {
     "name": "stdout",
     "output_type": "stream",
     "text": [
      "[91]\ttrain-mae:0.052925\n"
     ]
    },
    {
     "name": "stdout",
     "output_type": "stream",
     "text": [
      "[92]\ttrain-mae:0.052919\n"
     ]
    },
    {
     "name": "stdout",
     "output_type": "stream",
     "text": [
      "[93]\ttrain-mae:0.052912\n"
     ]
    },
    {
     "name": "stdout",
     "output_type": "stream",
     "text": [
      "[94]\ttrain-mae:0.052904\n"
     ]
    },
    {
     "name": "stdout",
     "output_type": "stream",
     "text": [
      "[95]\ttrain-mae:0.052897\n"
     ]
    },
    {
     "name": "stdout",
     "output_type": "stream",
     "text": [
      "[96]\ttrain-mae:0.052888\n"
     ]
    },
    {
     "name": "stdout",
     "output_type": "stream",
     "text": [
      "[97]\ttrain-mae:0.052879\n"
     ]
    },
    {
     "name": "stdout",
     "output_type": "stream",
     "text": [
      "[98]\ttrain-mae:0.052871\n"
     ]
    },
    {
     "name": "stdout",
     "output_type": "stream",
     "text": [
      "[99]\ttrain-mae:0.052856\n"
     ]
    },
    {
     "name": "stdout",
     "output_type": "stream",
     "text": [
      "[100]\ttrain-mae:0.052838\n"
     ]
    },
    {
     "name": "stdout",
     "output_type": "stream",
     "text": [
      "[101]\ttrain-mae:0.052831\n"
     ]
    },
    {
     "name": "stdout",
     "output_type": "stream",
     "text": [
      "[102]\ttrain-mae:0.052822\n"
     ]
    },
    {
     "name": "stdout",
     "output_type": "stream",
     "text": [
      "[103]\ttrain-mae:0.052816\n"
     ]
    },
    {
     "name": "stdout",
     "output_type": "stream",
     "text": [
      "[104]\ttrain-mae:0.052808\n"
     ]
    },
    {
     "name": "stdout",
     "output_type": "stream",
     "text": [
      "[105]\ttrain-mae:0.052798\n"
     ]
    },
    {
     "name": "stdout",
     "output_type": "stream",
     "text": [
      "[106]\ttrain-mae:0.052791\n"
     ]
    },
    {
     "name": "stdout",
     "output_type": "stream",
     "text": [
      "[107]\ttrain-mae:0.052785\n"
     ]
    },
    {
     "name": "stdout",
     "output_type": "stream",
     "text": [
      "[108]\ttrain-mae:0.052778\n"
     ]
    },
    {
     "name": "stdout",
     "output_type": "stream",
     "text": [
      "[109]\ttrain-mae:0.052768\n"
     ]
    },
    {
     "name": "stdout",
     "output_type": "stream",
     "text": [
      "[110]\ttrain-mae:0.052759\n"
     ]
    },
    {
     "name": "stdout",
     "output_type": "stream",
     "text": [
      "[111]\ttrain-mae:0.052749\n"
     ]
    },
    {
     "name": "stdout",
     "output_type": "stream",
     "text": [
      "[112]\ttrain-mae:0.052745\n"
     ]
    },
    {
     "name": "stdout",
     "output_type": "stream",
     "text": [
      "[113]\ttrain-mae:0.052738\n"
     ]
    },
    {
     "name": "stdout",
     "output_type": "stream",
     "text": [
      "[114]\ttrain-mae:0.052734\n"
     ]
    },
    {
     "name": "stdout",
     "output_type": "stream",
     "text": [
      "[115]\ttrain-mae:0.052729\n"
     ]
    },
    {
     "name": "stdout",
     "output_type": "stream",
     "text": [
      "[116]\ttrain-mae:0.052718\n"
     ]
    },
    {
     "name": "stdout",
     "output_type": "stream",
     "text": [
      "[117]\ttrain-mae:0.05271\n"
     ]
    },
    {
     "name": "stdout",
     "output_type": "stream",
     "text": [
      "[118]\ttrain-mae:0.052706\n"
     ]
    },
    {
     "name": "stdout",
     "output_type": "stream",
     "text": [
      "[119]\ttrain-mae:0.0527\n"
     ]
    },
    {
     "name": "stdout",
     "output_type": "stream",
     "text": [
      "[120]\ttrain-mae:0.052695\n"
     ]
    },
    {
     "name": "stdout",
     "output_type": "stream",
     "text": [
      "[121]\ttrain-mae:0.052686\n"
     ]
    },
    {
     "name": "stdout",
     "output_type": "stream",
     "text": [
      "[122]\ttrain-mae:0.052682\n"
     ]
    },
    {
     "name": "stdout",
     "output_type": "stream",
     "text": [
      "[123]\ttrain-mae:0.052675\n"
     ]
    },
    {
     "name": "stdout",
     "output_type": "stream",
     "text": [
      "[124]\ttrain-mae:0.052671\n"
     ]
    },
    {
     "name": "stdout",
     "output_type": "stream",
     "text": [
      "[125]\ttrain-mae:0.052668\n"
     ]
    },
    {
     "name": "stdout",
     "output_type": "stream",
     "text": [
      "[126]\ttrain-mae:0.052664\n"
     ]
    },
    {
     "name": "stdout",
     "output_type": "stream",
     "text": [
      "[127]\ttrain-mae:0.052656\n"
     ]
    },
    {
     "name": "stdout",
     "output_type": "stream",
     "text": [
      "[128]\ttrain-mae:0.05265\n"
     ]
    },
    {
     "name": "stdout",
     "output_type": "stream",
     "text": [
      "[129]\ttrain-mae:0.05264\n"
     ]
    },
    {
     "name": "stdout",
     "output_type": "stream",
     "text": [
      "[130]\ttrain-mae:0.052635\n"
     ]
    },
    {
     "name": "stdout",
     "output_type": "stream",
     "text": [
      "[131]\ttrain-mae:0.052628\n"
     ]
    },
    {
     "name": "stdout",
     "output_type": "stream",
     "text": [
      "[132]\ttrain-mae:0.052623\n"
     ]
    },
    {
     "name": "stdout",
     "output_type": "stream",
     "text": [
      "[133]\ttrain-mae:0.052618\n"
     ]
    },
    {
     "name": "stdout",
     "output_type": "stream",
     "text": [
      "[134]\ttrain-mae:0.052611\n"
     ]
    },
    {
     "name": "stdout",
     "output_type": "stream",
     "text": [
      "[135]\ttrain-mae:0.052604\n"
     ]
    },
    {
     "name": "stdout",
     "output_type": "stream",
     "text": [
      "[136]\ttrain-mae:0.052596\n"
     ]
    },
    {
     "name": "stdout",
     "output_type": "stream",
     "text": [
      "[137]\ttrain-mae:0.052594\n"
     ]
    },
    {
     "name": "stdout",
     "output_type": "stream",
     "text": [
      "[138]\ttrain-mae:0.052581\n"
     ]
    },
    {
     "name": "stdout",
     "output_type": "stream",
     "text": [
      "[139]\ttrain-mae:0.052574\n"
     ]
    },
    {
     "name": "stdout",
     "output_type": "stream",
     "text": [
      "[140]\ttrain-mae:0.052568\n"
     ]
    },
    {
     "name": "stdout",
     "output_type": "stream",
     "text": [
      "[141]\ttrain-mae:0.052561\n"
     ]
    },
    {
     "name": "stdout",
     "output_type": "stream",
     "text": [
      "[142]\ttrain-mae:0.052556\n"
     ]
    },
    {
     "name": "stdout",
     "output_type": "stream",
     "text": [
      "[143]\ttrain-mae:0.052549\n"
     ]
    },
    {
     "name": "stdout",
     "output_type": "stream",
     "text": [
      "[144]\ttrain-mae:0.052545\n"
     ]
    },
    {
     "name": "stdout",
     "output_type": "stream",
     "text": [
      "[145]\ttrain-mae:0.052537\n"
     ]
    },
    {
     "name": "stdout",
     "output_type": "stream",
     "text": [
      "[146]\ttrain-mae:0.052526\n"
     ]
    },
    {
     "name": "stdout",
     "output_type": "stream",
     "text": [
      "[147]\ttrain-mae:0.052519\n"
     ]
    },
    {
     "name": "stdout",
     "output_type": "stream",
     "text": [
      "[148]\ttrain-mae:0.052515\n"
     ]
    },
    {
     "name": "stdout",
     "output_type": "stream",
     "text": [
      "[149]\ttrain-mae:0.052508\n"
     ]
    },
    {
     "name": "stdout",
     "output_type": "stream",
     "text": [
      "[150]\ttrain-mae:0.052503\n"
     ]
    },
    {
     "name": "stdout",
     "output_type": "stream",
     "text": [
      "[151]\ttrain-mae:0.052498\n"
     ]
    },
    {
     "name": "stdout",
     "output_type": "stream",
     "text": [
      "[152]\ttrain-mae:0.05249\n"
     ]
    },
    {
     "name": "stdout",
     "output_type": "stream",
     "text": [
      "[153]\ttrain-mae:0.052483\n"
     ]
    },
    {
     "name": "stdout",
     "output_type": "stream",
     "text": [
      "[154]\ttrain-mae:0.052473\n"
     ]
    },
    {
     "name": "stdout",
     "output_type": "stream",
     "text": [
      "[155]\ttrain-mae:0.052466\n"
     ]
    },
    {
     "name": "stdout",
     "output_type": "stream",
     "text": [
      "[156]\ttrain-mae:0.052459\n"
     ]
    },
    {
     "name": "stdout",
     "output_type": "stream",
     "text": [
      "[157]\ttrain-mae:0.052451\n"
     ]
    },
    {
     "name": "stdout",
     "output_type": "stream",
     "text": [
      "[158]\ttrain-mae:0.052444\n"
     ]
    },
    {
     "name": "stdout",
     "output_type": "stream",
     "text": [
      "[159]\ttrain-mae:0.052433\n"
     ]
    },
    {
     "name": "stdout",
     "output_type": "stream",
     "text": [
      "[160]\ttrain-mae:0.05243\n"
     ]
    },
    {
     "name": "stdout",
     "output_type": "stream",
     "text": [
      "[161]\ttrain-mae:0.052422\n"
     ]
    },
    {
     "name": "stdout",
     "output_type": "stream",
     "text": [
      "[162]\ttrain-mae:0.052415\n"
     ]
    },
    {
     "name": "stdout",
     "output_type": "stream",
     "text": [
      "[163]\ttrain-mae:0.052406\n"
     ]
    },
    {
     "name": "stdout",
     "output_type": "stream",
     "text": [
      "[164]\ttrain-mae:0.052396\n"
     ]
    },
    {
     "name": "stdout",
     "output_type": "stream",
     "text": [
      "[165]\ttrain-mae:0.052392\n"
     ]
    },
    {
     "name": "stdout",
     "output_type": "stream",
     "text": [
      "[166]\ttrain-mae:0.052386\n"
     ]
    },
    {
     "name": "stdout",
     "output_type": "stream",
     "text": [
      "[167]\ttrain-mae:0.052381\n"
     ]
    },
    {
     "name": "stdout",
     "output_type": "stream",
     "text": [
      "[168]\ttrain-mae:0.052376\n"
     ]
    },
    {
     "name": "stdout",
     "output_type": "stream",
     "text": [
      "[169]\ttrain-mae:0.052369\n"
     ]
    },
    {
     "name": "stdout",
     "output_type": "stream",
     "text": [
      "[170]\ttrain-mae:0.052362\n"
     ]
    },
    {
     "name": "stdout",
     "output_type": "stream",
     "text": [
      "[171]\ttrain-mae:0.052355\n"
     ]
    },
    {
     "name": "stdout",
     "output_type": "stream",
     "text": [
      "[172]\ttrain-mae:0.052352\n"
     ]
    },
    {
     "name": "stdout",
     "output_type": "stream",
     "text": [
      "[173]\ttrain-mae:0.052348\n"
     ]
    },
    {
     "name": "stdout",
     "output_type": "stream",
     "text": [
      "[174]\ttrain-mae:0.052344\n"
     ]
    },
    {
     "name": "stdout",
     "output_type": "stream",
     "text": [
      "[175]\ttrain-mae:0.052341\n"
     ]
    },
    {
     "name": "stdout",
     "output_type": "stream",
     "text": [
      "[176]\ttrain-mae:0.052334\n"
     ]
    },
    {
     "name": "stdout",
     "output_type": "stream",
     "text": [
      "[177]\ttrain-mae:0.052328\n"
     ]
    },
    {
     "name": "stdout",
     "output_type": "stream",
     "text": [
      "[178]\ttrain-mae:0.052321\n"
     ]
    },
    {
     "name": "stdout",
     "output_type": "stream",
     "text": [
      "[179]\ttrain-mae:0.052316\n"
     ]
    },
    {
     "name": "stdout",
     "output_type": "stream",
     "text": [
      "[180]\ttrain-mae:0.052309\n"
     ]
    },
    {
     "name": "stdout",
     "output_type": "stream",
     "text": [
      "[181]\ttrain-mae:0.052301\n"
     ]
    },
    {
     "name": "stdout",
     "output_type": "stream",
     "text": [
      "[182]\ttrain-mae:0.052297\n"
     ]
    },
    {
     "name": "stdout",
     "output_type": "stream",
     "text": [
      "[183]\ttrain-mae:0.05229\n"
     ]
    },
    {
     "name": "stdout",
     "output_type": "stream",
     "text": [
      "model trained.\n"
     ]
    }
   ],
   "source": [
    "watchlist = [(dtrain, 'train')]\n",
    "model = xgb.train(dict(xgboost_parameters, silent=1), dtrain=dtrain, num_boost_round=actual_boost_rounds,\n",
    "                  evals=watchlist)\n",
    "print ('model trained.')"
   ]
  },
  {
   "cell_type": "code",
   "execution_count": 46,
   "metadata": {},
   "outputs": [
    {
     "name": "stdout",
     "output_type": "stream",
     "text": [
      "our submission file has 2985217 rows \n"
     ]
    }
   ],
   "source": [
    "# predict\n",
    "predictions = model.predict(dtest)\n",
    "y_predictions = np.array([str(round(each, 10)) for each in predictions])\n",
    "\n",
    "output = pd.DataFrame({'ParcelId': properties['parcelid'].astype(np.int32),\n",
    "                       '201610': y_predictions, '201611': y_predictions, '201612': y_predictions,\n",
    "                       '201710': y_predictions, '201711': y_predictions, '201712': y_predictions})\n",
    "# get the column headers\n",
    "output_columns = output.columns.tolist()\n",
    "\n",
    "# rearrange the columns to put the last one first\n",
    "output = output[output_columns[-1:] + output_columns[:-1]]\n",
    "print ('our submission file has %d rows ' % len(output))"
   ]
  },
  {
   "cell_type": "code",
   "execution_count": 48,
   "metadata": {},
   "outputs": [
    {
     "name": "stdout",
     "output_type": "stream",
     "text": [
      "writing submission to submission.csv.gz\n"
     ]
    },
    {
     "name": "stdout",
     "output_type": "stream",
     "text": [
      "done.\n"
     ]
    }
   ],
   "source": [
    "# make the submission file\n",
    "output_filename = 'submission.csv.gz'\n",
    "print ('writing submission to %s' % output_filename)\n",
    "output.to_csv(output_filename, index=False, float_format='%.4f', compression='gzip')\n",
    "print ('done.')"
   ]
  },
  {
   "cell_type": "code",
   "execution_count": 50,
   "metadata": {},
   "outputs": [
    {
     "name": "stdout",
     "output_type": "stream",
     "text": [
      "of 51 features the model considers 51 of them significant\nhere are the insignificant features: []\n"
     ]
    },
    {
     "data": {
      "image/png": "[encoded data removed]",
      "text/plain": [
       "<matplotlib.figure.Figure at 0x7fe4cc7e5f90>"
      ]
     },
     "metadata": {},
     "output_type": "display_data"
    }
   ],
   "source": [
    "# show a graph of the feature importance\n",
    "import matplotlib.pyplot as plt\n",
    "import operator\n",
    "%matplotlib inline\n",
    "\n",
    "f_score = model.get_fscore()\n",
    "importance = sorted(f_score.items(), key=operator.itemgetter(1), reverse=True)\n",
    "print('of %d features the model considers %d of them significant' % (len(list(x_train)), len(importance)))\n",
    "insignificant_features = set([item[0] for item in f_score.items()]).symmetric_difference(set(list(x_train)))\n",
    "print('here are the insignificant features: %s' % sorted(list(insignificant_features)))\n",
    "\n",
    "features = zip(*importance)[0]\n",
    "scores = zip(*importance)[1]\n",
    "x_pos = np.arange(len(features))\n",
    "plt.figure()\n",
    "plt.bar(x_pos, scores, align='center')\n",
    "plt.xticks(x_pos, features, rotation='vertical')\n",
    "plt.xlim(-1, len(x_pos))\n",
    "plt.tight_layout()\n",
    "plt.ylabel('Feature importance')\n",
    "plt.show()"
   ]
  },
  {
   "cell_type": "code",
   "execution_count": 51,
   "metadata": {},
   "outputs": [
    {
     "data": {
      "image/png": "[encoded data removed]",
      "text/plain": [
       "<matplotlib.figure.Figure at 0x7fe4d06248d0>"
      ]
     },
     "metadata": {},
     "output_type": "display_data"
    }
   ],
   "source": [
    "column_name = 'predicted logerror'\n",
    "# visualize the error for the predicted results\n",
    "fig, ax = plt.subplots()\n",
    "predictions_copy = np.copy(predictions)\n",
    "predictions_copy.sort()\n",
    "ax.scatter(range(predictions_copy.size), predictions_copy)\n",
    "plt.ylabel(column_name)\n",
    "plt.show()"
   ]
  },
  {
   "cell_type": "code",
   "execution_count": null,
   "metadata": {},
   "outputs": [],
   "source": [
    ""
   ]
  }
 ],
 "metadata": {
  "kernelspec": {
   "display_name": "Python 2",
   "language": "python",
   "name": "python2"
  },
  "language_info": {
   "codemirror_mode": {
    "name": "ipython",
    "version": 2.0
   },
   "file_extension": ".py",
   "mimetype": "text/x-python",
   "name": "python",
   "nbconvert_exporter": "python",
   "pygments_lexer": "ipython2",
   "version": "2.7.6"
  }
 },
 "nbformat": 4,
 "nbformat_minor": 0
}