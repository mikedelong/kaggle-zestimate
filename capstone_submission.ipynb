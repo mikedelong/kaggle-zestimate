{
 "cells": [
  {
   "cell_type": "code",
   "execution_count": 129,
   "metadata": {
    "collapsed": true
   },
   "outputs": [
    {
     "name": "stdout",
     "output_type": "stream",
     "text": [
      "2.7.12 (default, Nov 19 2016, 06:48:10) \n[GCC 5.4.0 20160609]\n"
     ]
    }
   ],
   "source": [
    "import sys\n",
    "print (sys.version)"
   ]
  },
  {
   "cell_type": "code",
   "execution_count": 130,
   "metadata": {},
   "outputs": [
    {
     "name": "stdout",
     "output_type": "stream",
     "text": [
      "loaded properties from ../input/properties_2016.csv\nproperties shape: (2985217, 58)\nloaded transaction data from ../input/train_2016_v2.csv\ntrain shape: (90275, 3)\n"
     ]
    }
   ],
   "source": [
    "import numpy as np\n",
    "import pandas as pd\n",
    "properties_file = '../input/properties_2016.csv'\n",
    "training_file = '../input/train_2016_v2.csv'\n",
    "properties = pd.read_csv(properties_file, dtype={\n",
    "    'fireplaceflag': np.bool, 'hashottuborspa': np.bool,\n",
    "    'propertycountylandusecode': np.str,\n",
    "    'propertyzoningdesc': np.str}, converters={\n",
    "    'taxdelinquencyflag': lambda x: np.bool(True) if x == 'Y' else np.bool(False)})  # avoid mixed type warning\n",
    "print ('loaded properties from ' + properties_file)\n",
    "print ('properties shape: ' + str(properties.shape))\n",
    "train = pd.read_csv(training_file)\n",
    "print ('loaded transaction data from ' + training_file)\n",
    "print ('train shape: ' + str(train.shape))\n",
    "\n",
    "# save a copy of the properties data \n",
    "properties_unscaled = properties.copy(deep=True)"
   ]
  },
  {
   "cell_type": "code",
   "execution_count": 131,
   "metadata": {},
   "outputs": [
    {
     "data": {
      "text/html": [
       "<div>\n",
       "<table border=\"1\" class=\"dataframe\">\n",
       "  <thead>\n",
       "    <tr style=\"text-align: right;\">\n",
       "      <th></th>\n",
       "      <th>landtaxvaluedollarcnt</th>\n",
       "      <th>structuretaxvaluedollarcnt</th>\n",
       "      <th>taxamount</th>\n",
       "      <th>taxvaluedollarcnt</th>\n",
       "      <th>calculatedfinishedsquarefeet</th>\n",
       "    </tr>\n",
       "  </thead>\n",
       "  <tbody>\n",
       "    <tr>\n",
       "      <th>count</th>\n",
       "      <td>2.917484e+06</td>\n",
       "      <td>2.930235e+06</td>\n",
       "      <td>2.953967e+06</td>\n",
       "      <td>2.942667e+06</td>\n",
       "      <td>2.929652e+06</td>\n",
       "    </tr>\n",
       "    <tr>\n",
       "      <th>mean</th>\n",
       "      <td>2.524780e+05</td>\n",
       "      <td>1.708836e+05</td>\n",
       "      <td>5.377607e+03</td>\n",
       "      <td>4.204790e+05</td>\n",
       "      <td>1.827162e+03</td>\n",
       "    </tr>\n",
       "    <tr>\n",
       "      <th>std</th>\n",
       "      <td>4.450132e+05</td>\n",
       "      <td>4.020683e+05</td>\n",
       "      <td>9.183107e+03</td>\n",
       "      <td>7.263467e+05</td>\n",
       "      <td>1.819780e+03</td>\n",
       "    </tr>\n",
       "    <tr>\n",
       "      <th>min</th>\n",
       "      <td>1.000000e+00</td>\n",
       "      <td>1.000000e+00</td>\n",
       "      <td>1.340000e+00</td>\n",
       "      <td>1.000000e+00</td>\n",
       "      <td>1.000000e+00</td>\n",
       "    </tr>\n",
       "    <tr>\n",
       "      <th>25%</th>\n",
       "      <td>7.483600e+04</td>\n",
       "      <td>7.480000e+04</td>\n",
       "      <td>2.461070e+03</td>\n",
       "      <td>1.796750e+05</td>\n",
       "      <td>1.213000e+03</td>\n",
       "    </tr>\n",
       "    <tr>\n",
       "      <th>50%</th>\n",
       "      <td>1.670420e+05</td>\n",
       "      <td>1.225900e+05</td>\n",
       "      <td>3.991780e+03</td>\n",
       "      <td>3.060860e+05</td>\n",
       "      <td>1.572000e+03</td>\n",
       "    </tr>\n",
       "    <tr>\n",
       "      <th>75%</th>\n",
       "      <td>3.069180e+05</td>\n",
       "      <td>1.968890e+05</td>\n",
       "      <td>6.201005e+03</td>\n",
       "      <td>4.880000e+05</td>\n",
       "      <td>2.136000e+03</td>\n",
       "    </tr>\n",
       "    <tr>\n",
       "      <th>max</th>\n",
       "      <td>9.024622e+07</td>\n",
       "      <td>2.514860e+08</td>\n",
       "      <td>3.458861e+06</td>\n",
       "      <td>2.827860e+08</td>\n",
       "      <td>9.525760e+05</td>\n",
       "    </tr>\n",
       "  </tbody>\n",
       "</table>\n",
       "</div>"
      ],
      "text/plain": [
       "<div>\n",
       "<table border=\"1\" class=\"dataframe\">\n",
       "  <thead>\n",
       "    <tr style=\"text-align: right;\">\n",
       "      <th></th>\n",
       "      <th>landtaxvaluedollarcnt</th>\n",
       "      <th>structuretaxvaluedollarcnt</th>\n",
       "      <th>taxamount</th>\n",
       "      <th>taxvaluedollarcnt</th>\n",
       "      <th>calculatedfinishedsquarefeet</th>\n",
       "    </tr>\n",
       "  </thead>\n",
       "  <tbody>\n",
       "    <tr>\n",
       "      <th>count</th>\n",
       "      <td>2.917484e+06</td>\n",
       "      <td>2.930235e+06</td>\n",
       "      <td>2.953967e+06</td>\n",
       "      <td>2.942667e+06</td>\n",
       "      <td>2.929652e+06</td>\n",
       "    </tr>\n",
       "    <tr>\n",
       "      <th>mean</th>\n",
       "      <td>2.524780e+05</td>\n",
       "      <td>1.708836e+05</td>\n",
       "      <td>5.377607e+03</td>\n",
       "      <td>4.204790e+05</td>\n",
       "      <td>1.827162e+03</td>\n",
       "    </tr>\n",
       "    <tr>\n",
       "      <th>std</th>\n",
       "      <td>4.450132e+05</td>\n",
       "      <td>4.020683e+05</td>\n",
       "      <td>9.183107e+03</td>\n",
       "      <td>7.263467e+05</td>\n",
       "      <td>1.819780e+03</td>\n",
       "    </tr>\n",
       "    <tr>\n",
       "      <th>min</th>\n",
       "      <td>1.000000e+00</td>\n",
       "      <td>1.000000e+00</td>\n",
       "      <td>1.340000e+00</td>\n",
       "      <td>1.000000e+00</td>\n",
       "      <td>1.000000e+00</td>\n",
       "    </tr>\n",
       "    <tr>\n",
       "      <th>25%</th>\n",
       "      <td>7.483600e+04</td>\n",
       "      <td>7.480000e+04</td>\n",
       "      <td>2.461070e+03</td>\n",
       "      <td>1.796750e+05</td>\n",
       "      <td>1.213000e+03</td>\n",
       "    </tr>\n",
       "    <tr>\n",
       "      <th>50%</th>\n",
       "      <td>1.670420e+05</td>\n",
       "      <td>1.225900e+05</td>\n",
       "      <td>3.991780e+03</td>\n",
       "      <td>3.060860e+05</td>\n",
       "      <td>1.572000e+03</td>\n",
       "    </tr>\n",
       "    <tr>\n",
       "      <th>75%</th>\n",
       "      <td>3.069180e+05</td>\n",
       "      <td>1.968890e+05</td>\n",
       "      <td>6.201005e+03</td>\n",
       "      <td>4.880000e+05</td>\n",
       "      <td>2.136000e+03</td>\n",
       "    </tr>\n",
       "    <tr>\n",
       "      <th>max</th>\n",
       "      <td>9.024622e+07</td>\n",
       "      <td>2.514860e+08</td>\n",
       "      <td>3.458861e+06</td>\n",
       "      <td>2.827860e+08</td>\n",
       "      <td>9.525760e+05</td>\n",
       "    </tr>\n",
       "  </tbody>\n",
       "</table>\n",
       "</div>"
      ]
     },
     "execution_count": 131,
     "metadata": {},
     "output_type": "execute_result"
    }
   ],
   "source": [
    "# take the log of select columns to reduce skew\n",
    "\n",
    "log_columns = ['landtaxvaluedollarcnt', 'structuretaxvaluedollarcnt', 'taxamount', 'taxvaluedollarcnt',\n",
    "               'calculatedfinishedsquarefeet']\n",
    "properties[log_columns].describe()"
   ]
  },
  {
   "cell_type": "code",
   "execution_count": 132,
   "metadata": {},
   "outputs": [
    {
     "data": {
      "text/html": [
       "<div>\n",
       "<table border=\"1\" class=\"dataframe\">\n",
       "  <thead>\n",
       "    <tr style=\"text-align: right;\">\n",
       "      <th></th>\n",
       "      <th>landtaxvaluedollarcnt</th>\n",
       "      <th>structuretaxvaluedollarcnt</th>\n",
       "      <th>taxamount</th>\n",
       "      <th>taxvaluedollarcnt</th>\n",
       "      <th>calculatedfinishedsquarefeet</th>\n",
       "    </tr>\n",
       "  </thead>\n",
       "  <tbody>\n",
       "    <tr>\n",
       "      <th>count</th>\n",
       "      <td>2.917484e+06</td>\n",
       "      <td>2.930235e+06</td>\n",
       "      <td>2.953967e+06</td>\n",
       "      <td>2.942667e+06</td>\n",
       "      <td>2.929652e+06</td>\n",
       "    </tr>\n",
       "    <tr>\n",
       "      <th>mean</th>\n",
       "      <td>1.188352e+01</td>\n",
       "      <td>1.168654e+01</td>\n",
       "      <td>8.234322e+00</td>\n",
       "      <td>1.255060e+01</td>\n",
       "      <td>7.396858e+00</td>\n",
       "    </tr>\n",
       "    <tr>\n",
       "      <th>std</th>\n",
       "      <td>1.119799e+00</td>\n",
       "      <td>8.475942e-01</td>\n",
       "      <td>8.526816e-01</td>\n",
       "      <td>9.425025e-01</td>\n",
       "      <td>4.484323e-01</td>\n",
       "    </tr>\n",
       "    <tr>\n",
       "      <th>min</th>\n",
       "      <td>0.000000e+00</td>\n",
       "      <td>0.000000e+00</td>\n",
       "      <td>2.926696e-01</td>\n",
       "      <td>0.000000e+00</td>\n",
       "      <td>0.000000e+00</td>\n",
       "    </tr>\n",
       "    <tr>\n",
       "      <th>25%</th>\n",
       "      <td>1.122305e+01</td>\n",
       "      <td>1.122257e+01</td>\n",
       "      <td>7.808351e+00</td>\n",
       "      <td>1.209890e+01</td>\n",
       "      <td>7.100852e+00</td>\n",
       "    </tr>\n",
       "    <tr>\n",
       "      <th>50%</th>\n",
       "      <td>1.202600e+01</td>\n",
       "      <td>1.171660e+01</td>\n",
       "      <td>8.291993e+00</td>\n",
       "      <td>1.263162e+01</td>\n",
       "      <td>7.360104e+00</td>\n",
       "    </tr>\n",
       "    <tr>\n",
       "      <th>75%</th>\n",
       "      <td>1.263434e+01</td>\n",
       "      <td>1.219040e+01</td>\n",
       "      <td>8.732467e+00</td>\n",
       "      <td>1.309807e+01</td>\n",
       "      <td>7.666690e+00</td>\n",
       "    </tr>\n",
       "    <tr>\n",
       "      <th>max</th>\n",
       "      <td>1.831805e+01</td>\n",
       "      <td>1.934290e+01</td>\n",
       "      <td>1.505645e+01</td>\n",
       "      <td>1.946020e+01</td>\n",
       "      <td>1.376693e+01</td>\n",
       "    </tr>\n",
       "  </tbody>\n",
       "</table>\n",
       "</div>"
      ],
      "text/plain": [
       "<div>\n",
       "<table border=\"1\" class=\"dataframe\">\n",
       "  <thead>\n",
       "    <tr style=\"text-align: right;\">\n",
       "      <th></th>\n",
       "      <th>landtaxvaluedollarcnt</th>\n",
       "      <th>structuretaxvaluedollarcnt</th>\n",
       "      <th>taxamount</th>\n",
       "      <th>taxvaluedollarcnt</th>\n",
       "      <th>calculatedfinishedsquarefeet</th>\n",
       "    </tr>\n",
       "  </thead>\n",
       "  <tbody>\n",
       "    <tr>\n",
       "      <th>count</th>\n",
       "      <td>2.917484e+06</td>\n",
       "      <td>2.930235e+06</td>\n",
       "      <td>2.953967e+06</td>\n",
       "      <td>2.942667e+06</td>\n",
       "      <td>2.929652e+06</td>\n",
       "    </tr>\n",
       "    <tr>\n",
       "      <th>mean</th>\n",
       "      <td>1.188352e+01</td>\n",
       "      <td>1.168654e+01</td>\n",
       "      <td>8.234322e+00</td>\n",
       "      <td>1.255060e+01</td>\n",
       "      <td>7.396858e+00</td>\n",
       "    </tr>\n",
       "    <tr>\n",
       "      <th>std</th>\n",
       "      <td>1.119799e+00</td>\n",
       "      <td>8.475942e-01</td>\n",
       "      <td>8.526816e-01</td>\n",
       "      <td>9.425025e-01</td>\n",
       "      <td>4.484323e-01</td>\n",
       "    </tr>\n",
       "    <tr>\n",
       "      <th>min</th>\n",
       "      <td>0.000000e+00</td>\n",
       "      <td>0.000000e+00</td>\n",
       "      <td>2.926696e-01</td>\n",
       "      <td>0.000000e+00</td>\n",
       "      <td>0.000000e+00</td>\n",
       "    </tr>\n",
       "    <tr>\n",
       "      <th>25%</th>\n",
       "      <td>1.122305e+01</td>\n",
       "      <td>1.122257e+01</td>\n",
       "      <td>7.808351e+00</td>\n",
       "      <td>1.209890e+01</td>\n",
       "      <td>7.100852e+00</td>\n",
       "    </tr>\n",
       "    <tr>\n",
       "      <th>50%</th>\n",
       "      <td>1.202600e+01</td>\n",
       "      <td>1.171660e+01</td>\n",
       "      <td>8.291993e+00</td>\n",
       "      <td>1.263162e+01</td>\n",
       "      <td>7.360104e+00</td>\n",
       "    </tr>\n",
       "    <tr>\n",
       "      <th>75%</th>\n",
       "      <td>1.263434e+01</td>\n",
       "      <td>1.219040e+01</td>\n",
       "      <td>8.732467e+00</td>\n",
       "      <td>1.309807e+01</td>\n",
       "      <td>7.666690e+00</td>\n",
       "    </tr>\n",
       "    <tr>\n",
       "      <th>max</th>\n",
       "      <td>1.831805e+01</td>\n",
       "      <td>1.934290e+01</td>\n",
       "      <td>1.505645e+01</td>\n",
       "      <td>1.946020e+01</td>\n",
       "      <td>1.376693e+01</td>\n",
       "    </tr>\n",
       "  </tbody>\n",
       "</table>\n",
       "</div>"
      ]
     },
     "execution_count": 132,
     "metadata": {},
     "output_type": "execute_result"
    }
   ],
   "source": [
    "for column_name in log_columns:\n",
    "    properties[column_name] = properties[column_name].apply(lambda x: np.log(x) if pd.notnull(x) else x)\n",
    "properties[log_columns].describe()"
   ]
  },
  {
   "cell_type": "code",
   "execution_count": 133,
   "metadata": {},
   "outputs": [
    {
     "data": {
      "text/html": [
       "<div>\n",
       "<table border=\"1\" class=\"dataframe\">\n",
       "  <thead>\n",
       "    <tr style=\"text-align: right;\">\n",
       "      <th></th>\n",
       "      <th>hashottuborspa</th>\n",
       "      <th>fireplaceflag</th>\n",
       "    </tr>\n",
       "  </thead>\n",
       "  <tbody>\n",
       "    <tr>\n",
       "      <th>count</th>\n",
       "      <td>69014</td>\n",
       "      <td>5163</td>\n",
       "    </tr>\n",
       "    <tr>\n",
       "      <th>unique</th>\n",
       "      <td>1</td>\n",
       "      <td>1</td>\n",
       "    </tr>\n",
       "    <tr>\n",
       "      <th>top</th>\n",
       "      <td>True</td>\n",
       "      <td>True</td>\n",
       "    </tr>\n",
       "    <tr>\n",
       "      <th>freq</th>\n",
       "      <td>69014</td>\n",
       "      <td>5163</td>\n",
       "    </tr>\n",
       "  </tbody>\n",
       "</table>\n",
       "</div>"
      ],
      "text/plain": [
       "<div>\n",
       "<table border=\"1\" class=\"dataframe\">\n",
       "  <thead>\n",
       "    <tr style=\"text-align: right;\">\n",
       "      <th></th>\n",
       "      <th>hashottuborspa</th>\n",
       "      <th>fireplaceflag</th>\n",
       "    </tr>\n",
       "  </thead>\n",
       "  <tbody>\n",
       "    <tr>\n",
       "      <th>count</th>\n",
       "      <td>69014</td>\n",
       "      <td>5163</td>\n",
       "    </tr>\n",
       "    <tr>\n",
       "      <th>unique</th>\n",
       "      <td>1</td>\n",
       "      <td>1</td>\n",
       "    </tr>\n",
       "    <tr>\n",
       "      <th>top</th>\n",
       "      <td>True</td>\n",
       "      <td>True</td>\n",
       "    </tr>\n",
       "    <tr>\n",
       "      <th>freq</th>\n",
       "      <td>69014</td>\n",
       "      <td>5163</td>\n",
       "    </tr>\n",
       "  </tbody>\n",
       "</table>\n",
       "</div>"
      ]
     },
     "execution_count": 133,
     "metadata": {},
     "output_type": "execute_result"
    }
   ],
   "source": [
    "# these are either one value or null, so we can tell the model that they're Boolean\n",
    "\n",
    "true_false_columns = ['hashottuborspa','fireplaceflag']\n",
    "properties[true_false_columns].describe()"
   ]
  },
  {
   "cell_type": "code",
   "execution_count": 134,
   "metadata": {},
   "outputs": [
    {
     "data": {
      "text/html": [
       "<div>\n",
       "<table border=\"1\" class=\"dataframe\">\n",
       "  <thead>\n",
       "    <tr style=\"text-align: right;\">\n",
       "      <th></th>\n",
       "      <th>hashottuborspa</th>\n",
       "      <th>fireplaceflag</th>\n",
       "    </tr>\n",
       "  </thead>\n",
       "  <tbody>\n",
       "    <tr>\n",
       "      <th>count</th>\n",
       "      <td>2985217</td>\n",
       "      <td>2985217</td>\n",
       "    </tr>\n",
       "    <tr>\n",
       "      <th>unique</th>\n",
       "      <td>2</td>\n",
       "      <td>2</td>\n",
       "    </tr>\n",
       "    <tr>\n",
       "      <th>top</th>\n",
       "      <td>False</td>\n",
       "      <td>False</td>\n",
       "    </tr>\n",
       "    <tr>\n",
       "      <th>freq</th>\n",
       "      <td>2916203</td>\n",
       "      <td>2980054</td>\n",
       "    </tr>\n",
       "  </tbody>\n",
       "</table>\n",
       "</div>"
      ],
      "text/plain": [
       "<div>\n",
       "<table border=\"1\" class=\"dataframe\">\n",
       "  <thead>\n",
       "    <tr style=\"text-align: right;\">\n",
       "      <th></th>\n",
       "      <th>hashottuborspa</th>\n",
       "      <th>fireplaceflag</th>\n",
       "    </tr>\n",
       "  </thead>\n",
       "  <tbody>\n",
       "    <tr>\n",
       "      <th>count</th>\n",
       "      <td>2985217</td>\n",
       "      <td>2985217</td>\n",
       "    </tr>\n",
       "    <tr>\n",
       "      <th>unique</th>\n",
       "      <td>2</td>\n",
       "      <td>2</td>\n",
       "    </tr>\n",
       "    <tr>\n",
       "      <th>top</th>\n",
       "      <td>False</td>\n",
       "      <td>False</td>\n",
       "    </tr>\n",
       "    <tr>\n",
       "      <th>freq</th>\n",
       "      <td>2916203</td>\n",
       "      <td>2980054</td>\n",
       "    </tr>\n",
       "  </tbody>\n",
       "</table>\n",
       "</div>"
      ]
     },
     "execution_count": 134,
     "metadata": {},
     "output_type": "execute_result"
    }
   ],
   "source": [
    "for column_name in true_false_columns:\n",
    "    properties[column_name] = properties[column_name].apply(lambda x: False if pd.isnull(x) else True)\n",
    "properties[true_false_columns].describe()"
   ]
  },
  {
   "cell_type": "code",
   "execution_count": 135,
   "metadata": {},
   "outputs": [
    {
     "name": "stdout",
     "output_type": "stream",
     "text": [
      "unique tax delinquency year values: [ nan  13.  15.  11.  14.   9.  10.   8.  12.   7.   6.   2.  92.   5.   3.\n   4.  95.  91.  93.  98.  82.  79.  94.  97.  90.  99.   0.   1.  87.  84.\n  86.  88.  96.]\n"
     ]
    }
   ],
   "source": [
    "# transform tax delinquency year\n",
    "print('unique tax delinquency year values: ' + str(properties['taxdelinquencyyear'].unique()))"
   ]
  },
  {
   "cell_type": "code",
   "execution_count": 136,
   "metadata": {},
   "outputs": [],
   "source": [
    "properties['taxdelinquencyyear'] = properties['taxdelinquencyyear'].apply(\n",
    "    lambda x: (17 - x if x < 20 else 117 - x) if pd.notnull(x) else x)"
   ]
  },
  {
   "cell_type": "code",
   "execution_count": 137,
   "metadata": {},
   "outputs": [
    {
     "name": "stdout",
     "output_type": "stream",
     "text": [
      "unique tax delinquency year values: [ nan   4.   2.   6.   3.   8.   7.   9.   5.  10.  11.  15.  25.  12.  14.\n  13.  22.  26.  24.  19.  35.  38.  23.  20.  27.  18.  17.  16.  30.  33.\n  31.  29.  21.]\n"
     ]
    }
   ],
   "source": [
    "print('unique tax delinquency year values: ' + str(properties['taxdelinquencyyear'].unique()))"
   ]
  },
  {
   "cell_type": "code",
   "execution_count": 138,
   "metadata": {},
   "outputs": [
    {
     "data": {
      "text/html": [
       "<div>\n",
       "<table border=\"1\" class=\"dataframe\">\n",
       "  <thead>\n",
       "    <tr style=\"text-align: right;\">\n",
       "      <th></th>\n",
       "      <th>latitude</th>\n",
       "      <th>longitude</th>\n",
       "    </tr>\n",
       "  </thead>\n",
       "  <tbody>\n",
       "    <tr>\n",
       "      <th>count</th>\n",
       "      <td>2.973780e+06</td>\n",
       "      <td>2.973780e+06</td>\n",
       "    </tr>\n",
       "    <tr>\n",
       "      <th>mean</th>\n",
       "      <td>3.400147e+07</td>\n",
       "      <td>-1.182019e+08</td>\n",
       "    </tr>\n",
       "    <tr>\n",
       "      <th>std</th>\n",
       "      <td>2.433812e+05</td>\n",
       "      <td>3.453171e+05</td>\n",
       "    </tr>\n",
       "    <tr>\n",
       "      <th>min</th>\n",
       "      <td>3.332439e+07</td>\n",
       "      <td>-1.194758e+08</td>\n",
       "    </tr>\n",
       "    <tr>\n",
       "      <th>25%</th>\n",
       "      <td>3.382768e+07</td>\n",
       "      <td>-1.183930e+08</td>\n",
       "    </tr>\n",
       "    <tr>\n",
       "      <th>50%</th>\n",
       "      <td>3.400825e+07</td>\n",
       "      <td>-1.181725e+08</td>\n",
       "    </tr>\n",
       "    <tr>\n",
       "      <th>75%</th>\n",
       "      <td>3.416186e+07</td>\n",
       "      <td>-1.179495e+08</td>\n",
       "    </tr>\n",
       "    <tr>\n",
       "      <th>max</th>\n",
       "      <td>3.481965e+07</td>\n",
       "      <td>-1.175543e+08</td>\n",
       "    </tr>\n",
       "  </tbody>\n",
       "</table>\n",
       "</div>"
      ],
      "text/plain": [
       "<div>\n",
       "<table border=\"1\" class=\"dataframe\">\n",
       "  <thead>\n",
       "    <tr style=\"text-align: right;\">\n",
       "      <th></th>\n",
       "      <th>latitude</th>\n",
       "      <th>longitude</th>\n",
       "    </tr>\n",
       "  </thead>\n",
       "  <tbody>\n",
       "    <tr>\n",
       "      <th>count</th>\n",
       "      <td>2.973780e+06</td>\n",
       "      <td>2.973780e+06</td>\n",
       "    </tr>\n",
       "    <tr>\n",
       "      <th>mean</th>\n",
       "      <td>3.400147e+07</td>\n",
       "      <td>-1.182019e+08</td>\n",
       "    </tr>\n",
       "    <tr>\n",
       "      <th>std</th>\n",
       "      <td>2.433812e+05</td>\n",
       "      <td>3.453171e+05</td>\n",
       "    </tr>\n",
       "    <tr>\n",
       "      <th>min</th>\n",
       "      <td>3.332439e+07</td>\n",
       "      <td>-1.194758e+08</td>\n",
       "    </tr>\n",
       "    <tr>\n",
       "      <th>25%</th>\n",
       "      <td>3.382768e+07</td>\n",
       "      <td>-1.183930e+08</td>\n",
       "    </tr>\n",
       "    <tr>\n",
       "      <th>50%</th>\n",
       "      <td>3.400825e+07</td>\n",
       "      <td>-1.181725e+08</td>\n",
       "    </tr>\n",
       "    <tr>\n",
       "      <th>75%</th>\n",
       "      <td>3.416186e+07</td>\n",
       "      <td>-1.179495e+08</td>\n",
       "    </tr>\n",
       "    <tr>\n",
       "      <th>max</th>\n",
       "      <td>3.481965e+07</td>\n",
       "      <td>-1.175543e+08</td>\n",
       "    </tr>\n",
       "  </tbody>\n",
       "</table>\n",
       "</div>"
      ]
     },
     "execution_count": 138,
     "metadata": {},
     "output_type": "execute_result"
    }
   ],
   "source": [
    "# scale the latitude and longitude using the min-max scaler\n",
    "location_columns = ['latitude', 'longitude']\n",
    "properties[location_columns].describe()"
   ]
  },
  {
   "cell_type": "code",
   "execution_count": 139,
   "metadata": {},
   "outputs": [
    {
     "data": {
      "text/html": [
       "<div>\n",
       "<table border=\"1\" class=\"dataframe\">\n",
       "  <thead>\n",
       "    <tr style=\"text-align: right;\">\n",
       "      <th></th>\n",
       "      <th>latitude</th>\n",
       "      <th>longitude</th>\n",
       "    </tr>\n",
       "  </thead>\n",
       "  <tbody>\n",
       "    <tr>\n",
       "      <th>count</th>\n",
       "      <td>2.985217e+06</td>\n",
       "      <td>2.985217e+06</td>\n",
       "    </tr>\n",
       "    <tr>\n",
       "      <th>mean</th>\n",
       "      <td>4.528174e-01</td>\n",
       "      <td>6.629559e-01</td>\n",
       "    </tr>\n",
       "    <tr>\n",
       "      <th>std</th>\n",
       "      <td>1.624562e-01</td>\n",
       "      <td>1.793710e-01</td>\n",
       "    </tr>\n",
       "    <tr>\n",
       "      <th>min</th>\n",
       "      <td>0.000000e+00</td>\n",
       "      <td>0.000000e+00</td>\n",
       "    </tr>\n",
       "    <tr>\n",
       "      <th>25%</th>\n",
       "      <td>3.369858e-01</td>\n",
       "      <td>5.640387e-01</td>\n",
       "    </tr>\n",
       "    <tr>\n",
       "      <th>50%</th>\n",
       "      <td>4.564712e-01</td>\n",
       "      <td>6.773080e-01</td>\n",
       "    </tr>\n",
       "    <tr>\n",
       "      <th>75%</th>\n",
       "      <td>5.597367e-01</td>\n",
       "      <td>7.939581e-01</td>\n",
       "    </tr>\n",
       "    <tr>\n",
       "      <th>max</th>\n",
       "      <td>1.000000e+00</td>\n",
       "      <td>1.000000e+00</td>\n",
       "    </tr>\n",
       "  </tbody>\n",
       "</table>\n",
       "</div>"
      ],
      "text/plain": [
       "<div>\n",
       "<table border=\"1\" class=\"dataframe\">\n",
       "  <thead>\n",
       "    <tr style=\"text-align: right;\">\n",
       "      <th></th>\n",
       "      <th>latitude</th>\n",
       "      <th>longitude</th>\n",
       "    </tr>\n",
       "  </thead>\n",
       "  <tbody>\n",
       "    <tr>\n",
       "      <th>count</th>\n",
       "      <td>2.985217e+06</td>\n",
       "      <td>2.985217e+06</td>\n",
       "    </tr>\n",
       "    <tr>\n",
       "      <th>mean</th>\n",
       "      <td>4.528174e-01</td>\n",
       "      <td>6.629559e-01</td>\n",
       "    </tr>\n",
       "    <tr>\n",
       "      <th>std</th>\n",
       "      <td>1.624562e-01</td>\n",
       "      <td>1.793710e-01</td>\n",
       "    </tr>\n",
       "    <tr>\n",
       "      <th>min</th>\n",
       "      <td>0.000000e+00</td>\n",
       "      <td>0.000000e+00</td>\n",
       "    </tr>\n",
       "    <tr>\n",
       "      <th>25%</th>\n",
       "      <td>3.369858e-01</td>\n",
       "      <td>5.640387e-01</td>\n",
       "    </tr>\n",
       "    <tr>\n",
       "      <th>50%</th>\n",
       "      <td>4.564712e-01</td>\n",
       "      <td>6.773080e-01</td>\n",
       "    </tr>\n",
       "    <tr>\n",
       "      <th>75%</th>\n",
       "      <td>5.597367e-01</td>\n",
       "      <td>7.939581e-01</td>\n",
       "    </tr>\n",
       "    <tr>\n",
       "      <th>max</th>\n",
       "      <td>1.000000e+00</td>\n",
       "      <td>1.000000e+00</td>\n",
       "    </tr>\n",
       "  </tbody>\n",
       "</table>\n",
       "</div>"
      ]
     },
     "execution_count": 139,
     "metadata": {},
     "output_type": "execute_result"
    }
   ],
   "source": [
    "from sklearn.preprocessing import MinMaxScaler\n",
    "\n",
    "min_max_scaler = MinMaxScaler(copy=True)\n",
    "scaled_columns = list()\n",
    "for column_name in location_columns:\n",
    "    mean_value = properties[column_name].mean()\n",
    "    properties[column_name].fillna(inplace=True, value=mean_value)\n",
    "    scaled_columns.append(column_name)\n",
    "properties[scaled_columns] = min_max_scaler.fit_transform(properties[scaled_columns])\n",
    "properties[location_columns].describe()"
   ]
  },
  {
   "cell_type": "code",
   "execution_count": 140,
   "metadata": {},
   "outputs": [],
   "source": [
    "# label encoding for several coded features\n",
    "from sklearn.preprocessing import LabelEncoder\n",
    "label_encode_columns = ['propertycountylandusecode', 'propertyzoningdesc', 'fips', 'regionidzip']\n",
    "for column_name in label_encode_columns:\n",
    "    if column_name in ['fips', 'regionidzip']:\n",
    "        properties[column_name] = properties[column_name].fillna('ZZZ')\n",
    "    label_encoder = LabelEncoder()\n",
    "    label_encoder.fit(list(properties[column_name].values))\n",
    "    properties[column_name] = label_encoder.transform(list(properties[column_name].values))"
   ]
  },
  {
   "cell_type": "code",
   "execution_count": 141,
   "metadata": {},
   "outputs": [
    {
     "name": "stdout",
     "output_type": "stream",
     "text": [
      "<class 'pandas.core.frame.DataFrame'>\nRangeIndex: 2985217 entries, 0 to 2985216\nData columns (total 58 columns):\nparcelid                        int64\nairconditioningtypeid           float64\narchitecturalstyletypeid        float64\nbasementsqft                    float64\nbathroomcnt                     float64\nbedroomcnt                      float64\nbuildingclasstypeid             float64\nbuildingqualitytypeid           float64\ncalculatedbathnbr               float64\ndecktypeid                      float64\nfinishedfloor1squarefeet        float64\ncalculatedfinishedsquarefeet    float64\nfinishedsquarefeet12            float64\nfinishedsquarefeet13            float64\nfinishedsquarefeet15            float64\nfinishedsquarefeet50            float64\nfinishedsquarefeet6             float64\nfips                            int64\nfireplacecnt                    float64\nfullbathcnt                     float64\ngaragecarcnt                    float64\ngaragetotalsqft                 float64\nhashottuborspa                  bool\nheatingorsystemtypeid           float64\nlatitude                        float64\nlongitude                       float64\nlotsizesquarefeet               float64\npoolcnt                         float64\npoolsizesum                     float64\npooltypeid10                    float64\npooltypeid2                     float64\npooltypeid7                     float64\npropertycountylandusecode       int64\npropertylandusetypeid           float64\npropertyzoningdesc              int64\nrawcensustractandblock          float64\nregionidcity                    float64\nregionidcounty                  float64\nregionidneighborhood            float64\nregionidzip                     int64\nroomcnt                         float64\nstorytypeid                     float64\nthreequarterbathnbr             float64\ntypeconstructiontypeid          float64\nunitcnt                         float64\nyardbuildingsqft17              float64\nyardbuildingsqft26              float64\nyearbuilt                       float64\nnumberofstories                 float64\nfireplaceflag                   bool\nstructuretaxvaluedollarcnt      float64\ntaxvaluedollarcnt               float64\nassessmentyear                  float64\nlandtaxvaluedollarcnt           float64\ntaxamount                       float64\ntaxdelinquencyflag              bool\ntaxdelinquencyyear              float64\ncensustractandblock             float64\ndtypes: bool(3), float64(50), int64(5)\nmemory usage: 1.2 GB\nNone\n"
     ]
    }
   ],
   "source": [
    "print (properties.info())"
   ]
  },
  {
   "cell_type": "code",
   "execution_count": 142,
   "metadata": {},
   "outputs": [
    {
     "name": "stdout",
     "output_type": "stream",
     "text": [
      "<class 'pandas.core.frame.DataFrame'>\nRangeIndex: 2985217 entries, 0 to 2985216\nData columns (total 52 columns):\nparcelid                        int64\nairconditioningtypeid           float64\narchitecturalstyletypeid        float64\nbasementsqft                    float64\nbathroomcnt                     float64\nbedroomcnt                      float64\nbuildingclasstypeid             float64\nbuildingqualitytypeid           float64\ncalculatedbathnbr               float64\ndecktypeid                      float64\nfinishedfloor1squarefeet        float64\ncalculatedfinishedsquarefeet    float64\nfinishedsquarefeet12            float64\nfinishedsquarefeet13            float64\nfinishedsquarefeet15            float64\nfinishedsquarefeet50            float64\nfinishedsquarefeet6             float64\nfips                            int64\nfireplacecnt                    float64\nfullbathcnt                     float64\ngaragecarcnt                    float64\ngaragetotalsqft                 float64\nhashottuborspa                  bool\nheatingorsystemtypeid           float64\nlatitude                        float64\nlongitude                       float64\nlotsizesquarefeet               float64\npoolcnt                         float64\npoolsizesum                     float64\npooltypeid2                     float64\npooltypeid7                     float64\npropertycountylandusecode       int64\npropertylandusetypeid           float64\npropertyzoningdesc              int64\nrawcensustractandblock          float64\nregionidcity                    float64\nregionidneighborhood            float64\nregionidzip                     int64\nroomcnt                         float64\nthreequarterbathnbr             float64\nunitcnt                         float64\nyardbuildingsqft17              float64\nyardbuildingsqft26              float64\nyearbuilt                       float64\nnumberofstories                 float64\nstructuretaxvaluedollarcnt      float64\ntaxvaluedollarcnt               float64\nlandtaxvaluedollarcnt           float64\ntaxamount                       float64\ntaxdelinquencyflag              bool\ntaxdelinquencyyear              float64\ncensustractandblock             float64\ndtypes: bool(2), float64(45), int64(5)\nmemory usage: 1.1 GB\nNone\n"
     ]
    }
   ],
   "source": [
    "# finally drop columns earlier model runs have told us are not significant\n",
    "\n",
    "properties = properties.drop(\n",
    "    [\n",
    "        'regionidcounty',\n",
    "        'assessmentyear',\n",
    "        'fireplaceflag',\n",
    "        'pooltypeid10',\n",
    "        'storytypeid',\n",
    "        'typeconstructiontypeid'\n",
    "    ], axis=1)\n",
    "print (properties.info())"
   ]
  },
  {
   "cell_type": "code",
   "execution_count": 143,
   "metadata": {},
   "outputs": [
    {
     "data": {
      "image/png": "[encoded data removed]",
      "text/plain": [
       "<matplotlib.figure.Figure at 0x7fe4cc80a250>"
      ]
     },
     "metadata": {},
     "output_type": "display_data"
    }
   ],
   "source": [
    "# merge the properties and transaction data to get the traiing data\n",
    "train_df = train.merge(properties, how='left', on='parcelid')\n",
    "x_train = train_df.drop(['parcelid', 'logerror', 'transactiondate'], axis=1)\n",
    "test_columns_to_drop = ['parcelid']\n",
    "x_test = properties.drop(test_columns_to_drop, axis=1)\n",
    "print ('train shape: %s, test shape: %s' % ((x_train.shape,), (x_test.shape,)))\n",
    "\n",
    "# also we need an unscaled copy for some pictures\n",
    "train_unscaled = train.merge(properties_unscaled, how='left', on='parcelid')"
   ]
  },
  {
   "cell_type": "code",
   "execution_count": 144,
   "metadata": {},
   "outputs": [
    {
     "data": {
      "image/png": "[encoded data removed]",
      "text/plain": [
       "<matplotlib.figure.Figure at 0x7fe4cc80a250>"
      ]
     },
     "metadata": {},
     "output_type": "display_data"
    }
   ],
   "source": [
    "# before we filter outliers and build the model we need to make some graphs\n",
    "import matplotlib.pyplot as plt\n",
    "import operator\n",
    "%matplotlib inline\n",
    "\n",
    "na_counts = {column_name: properties[column_name].isnull().sum() for column_name in list(properties) if\n",
    "             column_name not in ['parcelid']}\n",
    "x_pos = np.arange(len(na_counts))\n",
    "plt.figure()\n",
    "# let's sort these values before we graph them\n",
    "sorted_counts = sorted(na_counts.items(), key=operator.itemgetter(1), reverse=True)\n",
    "sorted_values = [item[1] for item in sorted_counts]\n",
    "plt.bar(x_pos, sorted_values, align='center')\n",
    "sorted_keys = [item[0] for item in sorted_counts]\n",
    "plt.xlim([-1, len(x_pos)])\n",
    "plt.xticks(x_pos, sorted_keys, rotation='vertical', fontsize=8)\n",
    "plt.yscale('log', nonposy='clip')\n",
    "plt.tight_layout()\n",
    "plt.suptitle('Properties data null counts by column')\n",
    "plt.show()"
   ]
  },
  {
   "cell_type": "code",
   "execution_count": 145,
   "metadata": {},
   "outputs": [
    {
     "data": {
      "image/png": "[encoded data removed]",
      "text/plain": [
       "<matplotlib.figure.Figure at 0x7fe4cc80a250>"
      ]
     },
     "metadata": {},
     "output_type": "display_data"
    }
   ],
   "source": [
    "na_counts = {column_name: train_df[column_name].isnull().sum() for column_name in list(train_df) if\n",
    "             column_name not in ['parcelid']}\n",
    "x_pos = np.arange(len(na_counts) - 2)\n",
    "plt.figure()\n",
    "# let's use the ordering from the properties\n",
    "sorted_values = [na_counts[key] for key in sorted_keys]\n",
    "plt.bar(x_pos, sorted_values, align='center')\n",
    "plt.xlim([-1, len(x_pos)])\n",
    "plt.xticks(x_pos, sorted_keys, rotation='vertical', fontsize=8)\n",
    "plt.yscale('log', nonposy='clip')\n",
    "plt.tight_layout()\n",
    "plt.suptitle('Training data null counts by column')\n",
    "plt.show()"
   ]
  },
  {
   "cell_type": "code",
   "execution_count": 146,
   "metadata": {},
   "outputs": [
    {
     "data": {
      "image/png": "[encoded data removed]",
      "text/plain": [
       "<matplotlib.figure.Figure at 0x7fe4cc80a250>"
      ]
     },
     "metadata": {},
     "output_type": "display_data"
    }
   ],
   "source": [
    "# visualize the error\n",
    "column_name = 'logerror'\n",
    "fig, ax = plt.subplots()\n",
    "ax.scatter(range(train.shape[0]), np.sort(train.logerror.values))\n",
    "plt.ylabel(column_name)\n",
    "plt.show()\n",
    "del fig"
   ]
  },
  {
   "cell_type": "code",
   "execution_count": 147,
   "metadata": {},
   "outputs": [
    {
     "data": {
      "image/png": "[encoded data removed]",
      "text/plain": [
       "<matplotlib.figure.Figure at 0x7fe4cc80a250>"
      ]
     },
     "metadata": {},
     "output_type": "display_data"
    }
   ],
   "source": [
    "# histogram for the log-error\n",
    "column_name = 'logerror'\n",
    "fig, axes = plt.subplots(ncols=2)\n",
    "print('%s min: %.4f max: %.4f' % (column_name, train_df[column_name].min(), train_df[column_name].max()))\n",
    "bins = 40\n",
    "train_df.hist(ax=axes[0], bins=bins, column=column_name)\n",
    "train_df.hist(ax=axes[1], bins=bins, column=column_name)\n",
    "axes[1].set_yscale('log')\n",
    "plt.show()\n",
    "del fig"
   ]
  },
  {
   "cell_type": "code",
   "execution_count": 148,
   "metadata": {},
   "outputs": [
    {
     "data": {
      "image/png": "[encoded data removed]",
      "text/plain": [
       "<matplotlib.figure.Figure at 0x7fe4cc80a250>"
      ]
     },
     "metadata": {},
     "output_type": "display_data"
    }
   ],
   "source": [
    "# we will map the properties by FIPS code using this map\n",
    "colors = {6037: 'red', 6059: 'blue', 6111: 'green'}\n",
    "\n",
    "# first let's map the outliers from the training data\n",
    "quantile = 0.995\n",
    "log_error_abs_quantile = train_unscaled[column_name].abs().quantile(quantile)\n",
    "print ('%s: at quantile level %f we have %f' % (column_name, quantile, log_error_abs_quantile))\n",
    "outliers = train_unscaled.loc[abs(train_unscaled[column_name]) > log_error_abs_quantile][['latitude', 'longitude', 'fips']]\n",
    "print ('outliers shape : ', (outliers.shape,))\n",
    "fig, ax = plt.subplots()\n",
    "ax.scatter(outliers['latitude'], outliers['longitude'], c=outliers['fips'].apply(lambda x: colors[x]))\n",
    "plt.show()\n",
    "del fig"
   ]
  },
  {
   "cell_type": "code",
   "execution_count": 149,
   "metadata": {},
   "outputs": [
    {
     "data": {
      "image/png": "[encoded data removed]",
      "text/plain": [
       "<matplotlib.figure.Figure at 0x7fe4cc80a250>"
      ]
     },
     "metadata": {},
     "output_type": "display_data"
    }
   ],
   "source": [
    "# now let's map all the training data\n",
    "fig, ax = plt.subplots()\n",
    "t1 = train_unscaled[['latitude', 'longitude', 'fips']].dropna()\n",
    "ax.scatter(t1['latitude'], t1['longitude'], c=t1['fips'].apply(lambda x: colors[x]))\n",
    "plt.show()\n",
    "del fig"
   ]
  },
  {
   "cell_type": "code",
   "execution_count": 153,
   "metadata": {},
   "outputs": [
    {
     "data": {
      "image/png": "[encoded data removed]",
      "text/plain": [
       "<matplotlib.figure.Figure at 0x7fe4cc80a250>"
      ]
     },
     "metadata": {},
     "output_type": "display_data"
    }
   ],
   "source": [
    "# now let's map all the test data; this will take a while\n",
    "fig, ax = plt.subplots()\n",
    "t0 = properties_unscaled[['latitude', 'longitude', 'fips']].dropna()\n",
    "print('if we filter out n/as from the test data we have ' + str((t0.shape,)))\n",
    "ax.scatter(t0['latitude'], t0['longitude'], c=t0['fips'].apply(lambda x: colors[x]))\n",
    "plt.show()\n",
    "del fig"
   ]
  },
  {
   "cell_type": "code",
   "execution_count": 156,
   "metadata": {},
   "outputs": [
    {
     "data": {
      "image/png": "[encoded data removed]",
      "text/plain": [
       "<matplotlib.figure.Figure at 0x7fe4cc80a250>"
      ]
     },
     "metadata": {},
     "output_type": "display_data"
    }
   ],
   "source": [
    "# histograms for property features, training data\n",
    "fig, axes = plt.subplots(ncols=2, nrows=2)\n",
    "column_name_00 = 'calculatedfinishedsquarefeet'\n",
    "train_unscaled.hist(ax=axes[0, 0], bins=50, column=column_name_00)\n",
    "axes[0, 0].set_yscale('log')\n",
    "axes[0, 0].ticklabel_format(style='sci', axis='x', scilimits=(0, 0))\n",
    "column_name_10 = 'bedroomcnt'\n",
    "train_unscaled.hist(ax=axes[1, 0], bins=50, column=column_name_10)\n",
    "axes[1, 0].set_yscale('log')\n",
    "column_name_01 = 'lotsizesquarefeet'\n",
    "train_unscaled.hist(ax=axes[0, 1], bins=50, column=column_name_01)\n",
    "axes[0, 1].set_yscale('log')\n",
    "axes[0, 1].ticklabel_format(style='sci', axis='x', scilimits=(0, 0))\n",
    "column_name_11 = 'bathroomcnt'\n",
    "train_unscaled.hist(ax=axes[1, 1], bins=50, column=column_name_11)\n",
    "axes[1, 1].set_yscale('log')\n",
    "plt.show()\n",
    "del fig"
   ]
  },
  {
   "cell_type": "code",
   "execution_count": 157,
   "metadata": {},
   "outputs": [
    {
     "data": {
      "image/png": "[encoded data removed]",
      "text/plain": [
       "<matplotlib.figure.Figure at 0x7fe4cc80a250>"
      ]
     },
     "metadata": {},
     "output_type": "display_data"
    }
   ],
   "source": [
    "# histograms for property features, test data\n",
    "fig, axes = plt.subplots(ncols=2, nrows=2)\n",
    "column_name_00 = 'calculatedfinishedsquarefeet'\n",
    "properties_unscaled.hist(ax=axes[0, 0], bins=50, column=column_name_00)\n",
    "axes[0, 0].set_yscale('log')\n",
    "axes[0, 0].ticklabel_format(style='sci', axis='x', scilimits=(0, 0))\n",
    "column_name_10 = 'bedroomcnt'\n",
    "properties_unscaled.hist(ax=axes[1, 0], bins=50, column=column_name_10)\n",
    "axes[1, 0].set_yscale('log')\n",
    "column_name_01 = 'lotsizesquarefeet'\n",
    "properties_unscaled.hist(ax=axes[0, 1], bins=50, column=column_name_01)\n",
    "axes[0, 1].set_yscale('log')\n",
    "axes[0, 1].ticklabel_format(style='sci', axis='x', scilimits=(0, 0))\n",
    "column_name_11 = 'bathroomcnt'\n",
    "properties_unscaled.hist(ax=axes[1, 1], bins=50, column=column_name_11)\n",
    "axes[1, 1].set_yscale('log')\n",
    "plt.show()\n",
    "del fig"
   ]
  },
  {
   "cell_type": "code",
   "execution_count": 158,
   "metadata": {},
   "outputs": [
    {
     "data": {
      "image/png": "[encoded data removed]",
      "text/plain": [
       "<matplotlib.figure.Figure at 0x7fe4cc80a250>"
      ]
     },
     "metadata": {},
     "output_type": "display_data"
    }
   ],
   "source": [
    "# tax data, training data\n",
    "fig, axes = plt.subplots(ncols=2, nrows=2)\n",
    "column_name_00 = 'taxvaluedollarcnt'\n",
    "train_unscaled.hist(ax=axes[0, 0], bins=50, column=column_name_00)\n",
    "axes[0, 0].set_yscale('log')\n",
    "axes[0, 0].ticklabel_format(style='sci', axis='x', scilimits=(0, 0))\n",
    "column_name_10 = 'taxamount'\n",
    "train_unscaled.hist(ax=axes[1, 0], bins=50, column=column_name_10)\n",
    "axes[1, 0].set_yscale('log')\n",
    "axes[1, 0].ticklabel_format(style='sci', axis='x', scilimits=(0, 0))\n",
    "column_name_01 = 'structuretaxvaluedollarcnt'\n",
    "train_unscaled.hist(ax=axes[0, 1], bins=50, column=column_name_01)\n",
    "axes[0, 1].set_yscale('log')\n",
    "axes[0, 1].ticklabel_format(style='sci', axis='x', scilimits=(0, 0))\n",
    "column_name_11 = 'landtaxvaluedollarcnt'\n",
    "train_unscaled.hist(ax=axes[1, 1], bins=50, column=column_name_11)\n",
    "axes[1, 1].set_yscale('log')\n",
    "plt.show()\n",
    "del fig"
   ]
  },
  {
   "cell_type": "code",
   "execution_count": 159,
   "metadata": {},
   "outputs": [
    {
     "data": {
      "image/png": "[encoded data removed]",
      "text/plain": [
       "<matplotlib.figure.Figure at 0x7fe4cc80a250>"
      ]
     },
     "metadata": {},
     "output_type": "display_data"
    }
   ],
   "source": [
    "# tax data, test data\n",
    "fig, axes = plt.subplots(ncols=2, nrows=2)\n",
    "column_name_00 = 'taxvaluedollarcnt'\n",
    "properties_unscaled.hist(ax=axes[0, 0], bins=50, column=column_name_00)\n",
    "axes[0, 0].set_yscale('log')\n",
    "axes[0, 0].ticklabel_format(style='sci', axis='x', scilimits=(0, 0))\n",
    "column_name_10 = 'taxamount'\n",
    "properties_unscaled.hist(ax=axes[1, 0], bins=50, column=column_name_10)\n",
    "axes[1, 0].set_yscale('log')\n",
    "axes[1, 0].ticklabel_format(style='sci', axis='x', scilimits=(0, 0))\n",
    "column_name_01 = 'structuretaxvaluedollarcnt'\n",
    "properties_unscaled.hist(ax=axes[0, 1], bins=50, column=column_name_01)\n",
    "axes[0, 1].set_yscale('log')\n",
    "axes[0, 1].ticklabel_format(style='sci', axis='x', scilimits=(0, 0))\n",
    "column_name_11 = 'landtaxvaluedollarcnt'\n",
    "properties_unscaled.hist(ax=axes[1, 1], bins=50, column=column_name_11)\n",
    "axes[1, 1].set_yscale('log')\n",
    "plt.show()\n",
    "del fig"
   ]
  },
  {
   "cell_type": "code",
   "execution_count": 160,
   "metadata": {},
   "outputs": [
    {
     "data": {
      "image/png": "[encoded data removed]",
      "text/plain": [
       "<matplotlib.figure.Figure at 0x7fe4cc80a250>"
      ]
     },
     "metadata": {},
     "output_type": "display_data"
    }
   ],
   "source": [
    "# histogram for the year built data\n",
    "fig, axes = plt.subplots(ncols=2)\n",
    "column_name = 'yearbuilt'\n",
    "train_unscaled.hist(ax=axes[0], bins=50, column=column_name)\n",
    "axes[0].set_yscale('log')\n",
    "axes[0].set_xlim(1800, 2020)\n",
    "properties_unscaled.hist(ax=axes[1], bins=50, column=column_name)\n",
    "axes[1].set_yscale('log')\n",
    "axes[1].set_xlim(1800, 2020)\n",
    "plt.show()\n",
    "del fig"
   ]
  },
  {
   "cell_type": "code",
   "execution_count": 162,
   "metadata": {},
   "outputs": [
    {
     "data": {
      "image/png": "[encoded data removed]",
      "text/plain": [
       "<matplotlib.figure.Figure at 0x7fe4cc80a250>"
      ]
     },
     "metadata": {},
     "output_type": "display_data"
    }
   ],
   "source": [
    "properties_unscaled['taxdelinquencyyear'] = properties_unscaled['taxdelinquencyyear'].apply(\n",
    "    lambda x: (2000 + x if x < 20 else 1900 + x) if pd.notnull(x) else x)\n",
    "train_unscaled['taxdelinquencyyear'] = train_unscaled['taxdelinquencyyear'].apply(\n",
    "    lambda x: (2000 + x if x < 20 else 1900 + x) if pd.notnull(x) else x)"
   ]
  },
  {
   "cell_type": "code",
   "execution_count": 163,
   "metadata": {},
   "outputs": [
    {
     "data": {
      "image/png": "[encoded data removed]",
      "text/plain": [
       "<matplotlib.figure.Figure at 0x7fe4cc80a250>"
      ]
     },
     "metadata": {},
     "output_type": "display_data"
    }
   ],
   "source": [
    "fig, axes = plt.subplots(ncols=2)\n",
    "column_name = 'taxdelinquencyyear'\n",
    "train_unscaled.hist(ax=axes[0], bins=10, column=column_name)\n",
    "axes[0].set_yscale('log')\n",
    "axes[0].set_xticks([1970, 1980, 1990, 2000, 2010, 2020])\n",
    "properties_unscaled.hist(ax=axes[1], bins=10, column=column_name)\n",
    "axes[1].set_yscale('log')\n",
    "axes[1].set_xticks([1970, 1980, 1990, 2000, 2010, 2020])\n",
    "plt.show()\n",
    "del fig"
   ]
  },
  {
   "cell_type": "code",
   "execution_count": 164,
   "metadata": {},
   "outputs": [
    {
     "name": "stdout",
     "output_type": "stream",
     "text": [
      "after outlier filtering, train shape: ((88799, 54),), test shape: ((2985217, 51),)\n"
     ]
    }
   ],
   "source": [
    "# filter outliers \n",
    "lower_limit = -0.4\n",
    "upper_limit = 0.5\n",
    "train_df = train_df[(train_df.logerror < upper_limit) & (train_df.logerror > lower_limit)]\n",
    "print ('after outlier filtering, train shape: %s, test shape: %s' % ((train_df.shape,), (x_test.shape,)))"
   ]
  },
  {
   "cell_type": "code",
   "execution_count": 165,
   "metadata": {},
   "outputs": [
    {
     "name": "stdout",
     "output_type": "stream",
     "text": [
      "y_train shape: (88799,)\ny_mean (the XGBoost base score) = 0.009000\n"
     ]
    }
   ],
   "source": [
    "# build the XGBoost matrices and get the log-error mean\n",
    "import xgboost as xgb\n",
    "\n",
    "train_columns_to_drop = ['parcelid', 'logerror', 'transactiondate'] \n",
    "x_train = train_df.drop(train_columns_to_drop, axis=1)\n",
    "y_train = train_df['logerror'].values.astype(np.float32)\n",
    "y_mean = np.mean(y_train)\n",
    "print ('y_train shape: %s' % (y_train.shape,))\n",
    "print ('y_mean (the XGBoost base score) = %.6f' % y_mean)\n",
    "\n",
    "dtrain = xgb.DMatrix(x_train, label=y_train)\n",
    "dtest = xgb.DMatrix(x_test)"
   ]
  },
  {
   "cell_type": "code",
   "execution_count": 166,
   "metadata": {},
   "outputs": [],
   "source": [
    "# xgboost parameters\n",
    "random_seed = 1\n",
    "xgboost_parameters = {\n",
    "    'alpha': 0.0,\n",
    "    'base_score': y_mean,\n",
    "    'booster': 'gbtree',\n",
    "    'colsample_bytree': 1.0,\n",
    "    'eta': 0.025,  #  default = 0.03 \n",
    "    'eval_metric': 'mae',\n",
    "    'gamma': 0.0,  # default is 0\n",
    "    'lambda': 1.05,  # default is 1.0\n",
    "    'max_depth': 7,  #  default = 6\n",
    "    'objective': 'reg:linear',\n",
    "    'seed': random_seed,\n",
    "    'silent': 1,\n",
    "    'subsample': 0.7\n",
    "}"
   ]
  },
  {
   "cell_type": "code",
   "execution_count": 167,
   "metadata": {},
   "outputs": [
    {
     "name": "stdout",
     "output_type": "stream",
     "text": [
      "[0]\ttrain-mae:0.0545467\ttest-mae:0.0545604\n"
     ]
    },
    {
     "name": "stdout",
     "output_type": "stream",
     "text": [
      "[5]\ttrain-mae:0.054342\ttest-mae:0.0544297\n"
     ]
    },
    {
     "name": "stdout",
     "output_type": "stream",
     "text": [
      "[10]\ttrain-mae:0.0541683\ttest-mae:0.0543293\n"
     ]
    },
    {
     "name": "stdout",
     "output_type": "stream",
     "text": [
      "[15]\ttrain-mae:0.0540205\ttest-mae:0.0542489\n"
     ]
    },
    {
     "name": "stdout",
     "output_type": "stream",
     "text": [
      "[20]\ttrain-mae:0.0538865\ttest-mae:0.0541883\n"
     ]
    },
    {
     "name": "stdout",
     "output_type": "stream",
     "text": [
      "[25]\ttrain-mae:0.0537726\ttest-mae:0.0541462\n"
     ]
    },
    {
     "name": "stdout",
     "output_type": "stream",
     "text": [
      "[30]\ttrain-mae:0.0536714\ttest-mae:0.0541069\n"
     ]
    },
    {
     "name": "stdout",
     "output_type": "stream",
     "text": [
      "[35]\ttrain-mae:0.0535796\ttest-mae:0.0540785\n"
     ]
    },
    {
     "name": "stdout",
     "output_type": "stream",
     "text": [
      "[40]\ttrain-mae:0.053493\ttest-mae:0.0540556\n"
     ]
    },
    {
     "name": "stdout",
     "output_type": "stream",
     "text": [
      "[45]\ttrain-mae:0.0534116\ttest-mae:0.0540309\n"
     ]
    },
    {
     "name": "stdout",
     "output_type": "stream",
     "text": [
      "[50]\ttrain-mae:0.0533395\ttest-mae:0.0540144\n"
     ]
    },
    {
     "name": "stdout",
     "output_type": "stream",
     "text": [
      "[55]\ttrain-mae:0.0532683\ttest-mae:0.0539999\n"
     ]
    },
    {
     "name": "stdout",
     "output_type": "stream",
     "text": [
      "[60]\ttrain-mae:0.0532084\ttest-mae:0.0539875\n"
     ]
    },
    {
     "name": "stdout",
     "output_type": "stream",
     "text": [
      "[65]\ttrain-mae:0.0531466\ttest-mae:0.0539761\n"
     ]
    },
    {
     "name": "stdout",
     "output_type": "stream",
     "text": [
      "[70]\ttrain-mae:0.0530871\ttest-mae:0.0539623\n"
     ]
    },
    {
     "name": "stdout",
     "output_type": "stream",
     "text": [
      "[75]\ttrain-mae:0.053034\ttest-mae:0.053955\n"
     ]
    },
    {
     "name": "stdout",
     "output_type": "stream",
     "text": [
      "[80]\ttrain-mae:0.0529851\ttest-mae:0.0539498\n"
     ]
    },
    {
     "name": "stdout",
     "output_type": "stream",
     "text": [
      "[85]\ttrain-mae:0.0529383\ttest-mae:0.0539444\n"
     ]
    },
    {
     "name": "stdout",
     "output_type": "stream",
     "text": [
      "[90]\ttrain-mae:0.0528871\ttest-mae:0.0539384\n"
     ]
    },
    {
     "name": "stdout",
     "output_type": "stream",
     "text": [
      "[95]\ttrain-mae:0.0528423\ttest-mae:0.0539313\n"
     ]
    },
    {
     "name": "stdout",
     "output_type": "stream",
     "text": [
      "[100]\ttrain-mae:0.0527994\ttest-mae:0.0539265\n"
     ]
    },
    {
     "name": "stdout",
     "output_type": "stream",
     "text": [
      "[105]\ttrain-mae:0.0527574\ttest-mae:0.0539234\n"
     ]
    },
    {
     "name": "stdout",
     "output_type": "stream",
     "text": [
      "[110]\ttrain-mae:0.0527169\ttest-mae:0.0539204\n"
     ]
    },
    {
     "name": "stdout",
     "output_type": "stream",
     "text": [
      "[115]\ttrain-mae:0.0526784\ttest-mae:0.0539176\n"
     ]
    },
    {
     "name": "stdout",
     "output_type": "stream",
     "text": [
      "[120]\ttrain-mae:0.0526365\ttest-mae:0.0539146\n"
     ]
    },
    {
     "name": "stdout",
     "output_type": "stream",
     "text": [
      "[125]\ttrain-mae:0.0526009\ttest-mae:0.0539149\n"
     ]
    },
    {
     "name": "stdout",
     "output_type": "stream",
     "text": [
      "[130]\ttrain-mae:0.052562\ttest-mae:0.0539145\n"
     ]
    },
    {
     "name": "stdout",
     "output_type": "stream",
     "text": [
      "[135]\ttrain-mae:0.0525266\ttest-mae:0.0539115\n"
     ]
    },
    {
     "name": "stdout",
     "output_type": "stream",
     "text": [
      "[140]\ttrain-mae:0.0524867\ttest-mae:0.0539071\n"
     ]
    },
    {
     "name": "stdout",
     "output_type": "stream",
     "text": [
      "[145]\ttrain-mae:0.0524516\ttest-mae:0.0539026\n"
     ]
    },
    {
     "name": "stdout",
     "output_type": "stream",
     "text": [
      "[150]\ttrain-mae:0.0524174\ttest-mae:0.0539009\n"
     ]
    },
    {
     "name": "stdout",
     "output_type": "stream",
     "text": [
      "[155]\ttrain-mae:0.0523812\ttest-mae:0.053901\n"
     ]
    },
    {
     "name": "stdout",
     "output_type": "stream",
     "text": [
      "[160]\ttrain-mae:0.0523462\ttest-mae:0.0538989\n"
     ]
    },
    {
     "name": "stdout",
     "output_type": "stream",
     "text": [
      "[165]\ttrain-mae:0.0523146\ttest-mae:0.0538986\n"
     ]
    },
    {
     "name": "stdout",
     "output_type": "stream",
     "text": [
      "[170]\ttrain-mae:0.0522815\ttest-mae:0.0538984\n"
     ]
    },
    {
     "name": "stdout",
     "output_type": "stream",
     "text": [
      "[175]\ttrain-mae:0.0522492\ttest-mae:0.0538971\n"
     ]
    },
    {
     "name": "stdout",
     "output_type": "stream",
     "text": [
      "[180]\ttrain-mae:0.052214\ttest-mae:0.0538956\n"
     ]
    },
    {
     "name": "stdout",
     "output_type": "stream",
     "text": [
      "[185]\ttrain-mae:0.0521821\ttest-mae:0.0538962\n"
     ]
    },
    {
     "name": "stdout",
     "output_type": "stream",
     "text": [
      "[190]\ttrain-mae:0.052145\ttest-mae:0.0538979\n"
     ]
    },
    {
     "name": "stdout",
     "output_type": "stream",
     "text": [
      "[195]\ttrain-mae:0.0521136\ttest-mae:0.053897\n"
     ]
    },
    {
     "name": "stdout",
     "output_type": "stream",
     "text": [
      "[200]\ttrain-mae:0.0520819\ttest-mae:0.0538966\n"
     ]
    },
    {
     "name": "stdout",
     "output_type": "stream",
     "text": [
      "[205]\ttrain-mae:0.0520497\ttest-mae:0.053896\n"
     ]
    },
    {
     "name": "stdout",
     "output_type": "stream",
     "text": [
      "[210]\ttrain-mae:0.0520215\ttest-mae:0.0538987\n"
     ]
    },
    {
     "name": "stdout",
     "output_type": "stream",
     "text": [
      "[215]\ttrain-mae:0.0519891\ttest-mae:0.0538999\n"
     ]
    },
    {
     "name": "stdout",
     "output_type": "stream",
     "text": [
      "[220]\ttrain-mae:0.0519562\ttest-mae:0.0538988\n"
     ]
    },
    {
     "name": "stdout",
     "output_type": "stream",
     "text": [
      "[225]\ttrain-mae:0.0519245\ttest-mae:0.0539015\n"
     ]
    },
    {
     "name": "stdout",
     "output_type": "stream",
     "text": [
      "[230]\ttrain-mae:0.0518949\ttest-mae:0.0539044\n"
     ]
    },
    {
     "name": "stdout",
     "output_type": "stream",
     "text": [
      "[235]\ttrain-mae:0.0518615\ttest-mae:0.0539074\n"
     ]
    },
    {
     "name": "stdout",
     "output_type": "stream",
     "text": [
      "[240]\ttrain-mae:0.0518311\ttest-mae:0.0539069\n"
     ]
    },
    {
     "name": "stdout",
     "output_type": "stream",
     "text": [
      "[245]\ttrain-mae:0.0518006\ttest-mae:0.0539093\n"
     ]
    },
    {
     "name": "stdout",
     "output_type": "stream",
     "text": [
      "[250]\ttrain-mae:0.0517726\ttest-mae:0.053911\n"
     ]
    },
    {
     "name": "stdout",
     "output_type": "stream",
     "text": [
      "[255]\ttrain-mae:0.05174\ttest-mae:0.0539114\n"
     ]
    },
    {
     "name": "stdout",
     "output_type": "stream",
     "text": [
      "[260]\ttrain-mae:0.0517033\ttest-mae:0.0539111\n"
     ]
    },
    {
     "name": "stdout",
     "output_type": "stream",
     "text": [
      "[265]\ttrain-mae:0.0516716\ttest-mae:0.053911\n"
     ]
    },
    {
     "name": "stdout",
     "output_type": "stream",
     "text": [
      "[270]\ttrain-mae:0.0516415\ttest-mae:0.0539113\n"
     ]
    },
    {
     "name": "stdout",
     "output_type": "stream",
     "text": [
      "[275]\ttrain-mae:0.0516125\ttest-mae:0.0539106\n"
     ]
    },
    {
     "name": "stdout",
     "output_type": "stream",
     "text": [
      "[280]\ttrain-mae:0.051584\ttest-mae:0.0539106\n"
     ]
    },
    {
     "name": "stdout",
     "output_type": "stream",
     "text": [
      "[285]\ttrain-mae:0.0515516\ttest-mae:0.0539081\n"
     ]
    }
   ],
   "source": [
    "# cross-validation\n",
    "cross_validation_nfold = 8\n",
    "xgb_boost_rounds = 1200\n",
    "\n",
    "cv_result = xgb.cv(xgboost_parameters, dtrain,\n",
    "                   early_stopping_rounds=100, \n",
    "                   nfold=cross_validation_nfold,\n",
    "                   num_boost_round=xgb_boost_rounds,\n",
    "                   seed=random_seed,\n",
    "                   show_stdv=False,\n",
    "                   verbose_eval=5)\n",
    "actual_boost_rounds = len(cv_result)"
   ]
  },
  {
   "cell_type": "code",
   "execution_count": 168,
   "metadata": {},
   "outputs": [
    {
     "name": "stdout",
     "output_type": "stream",
     "text": [
      "for cross-validation we actually used 188 rounds\n"
     ]
    }
   ],
   "source": [
    "print('for cross-validation we actually used %d rounds' % actual_boost_rounds)"
   ]
  },
  {
   "cell_type": "code",
   "execution_count": 169,
   "metadata": {},
   "outputs": [
    {
     "name": "stdout",
     "output_type": "stream",
     "text": [
      "[0]\ttrain-mae:0.054546\n"
     ]
    },
    {
     "name": "stdout",
     "output_type": "stream",
     "text": [
      "[1]\ttrain-mae:0.054505\n"
     ]
    },
    {
     "name": "stdout",
     "output_type": "stream",
     "text": [
      "[2]\ttrain-mae:0.054463\n"
     ]
    },
    {
     "name": "stdout",
     "output_type": "stream",
     "text": [
      "[3]\ttrain-mae:0.054425\n"
     ]
    },
    {
     "name": "stdout",
     "output_type": "stream",
     "text": [
      "[4]\ttrain-mae:0.054388\n"
     ]
    },
    {
     "name": "stdout",
     "output_type": "stream",
     "text": [
      "[5]\ttrain-mae:0.054349\n"
     ]
    },
    {
     "name": "stdout",
     "output_type": "stream",
     "text": [
      "[6]\ttrain-mae:0.054312\n"
     ]
    },
    {
     "name": "stdout",
     "output_type": "stream",
     "text": [
      "[7]\ttrain-mae:0.054275\n"
     ]
    },
    {
     "name": "stdout",
     "output_type": "stream",
     "text": [
      "[8]\ttrain-mae:0.054241\n"
     ]
    },
    {
     "name": "stdout",
     "output_type": "stream",
     "text": [
      "[9]\ttrain-mae:0.054209\n"
     ]
    },
    {
     "name": "stdout",
     "output_type": "stream",
     "text": [
      "[10]\ttrain-mae:0.054176\n"
     ]
    },
    {
     "name": "stdout",
     "output_type": "stream",
     "text": [
      "[11]\ttrain-mae:0.05414\n"
     ]
    },
    {
     "name": "stdout",
     "output_type": "stream",
     "text": [
      "[12]\ttrain-mae:0.054108\n"
     ]
    },
    {
     "name": "stdout",
     "output_type": "stream",
     "text": [
      "[13]\ttrain-mae:0.054081\n"
     ]
    },
    {
     "name": "stdout",
     "output_type": "stream",
     "text": [
      "[14]\ttrain-mae:0.054053\n"
     ]
    },
    {
     "name": "stdout",
     "output_type": "stream",
     "text": [
      "[15]\ttrain-mae:0.054025\n"
     ]
    },
    {
     "name": "stdout",
     "output_type": "stream",
     "text": [
      "[16]\ttrain-mae:0.054001\n"
     ]
    },
    {
     "name": "stdout",
     "output_type": "stream",
     "text": [
      "[17]\ttrain-mae:0.053976\n"
     ]
    },
    {
     "name": "stdout",
     "output_type": "stream",
     "text": [
      "[18]\ttrain-mae:0.053955\n"
     ]
    },
    {
     "name": "stdout",
     "output_type": "stream",
     "text": [
      "[19]\ttrain-mae:0.053932\n"
     ]
    },
    {
     "name": "stdout",
     "output_type": "stream",
     "text": [
      "[20]\ttrain-mae:0.053905\n"
     ]
    },
    {
     "name": "stdout",
     "output_type": "stream",
     "text": [
      "[21]\ttrain-mae:0.053883\n"
     ]
    },
    {
     "name": "stdout",
     "output_type": "stream",
     "text": [
      "[22]\ttrain-mae:0.053859\n"
     ]
    },
    {
     "name": "stdout",
     "output_type": "stream",
     "text": [
      "[23]\ttrain-mae:0.053834\n"
     ]
    },
    {
     "name": "stdout",
     "output_type": "stream",
     "text": [
      "[24]\ttrain-mae:0.053815\n"
     ]
    },
    {
     "name": "stdout",
     "output_type": "stream",
     "text": [
      "[25]\ttrain-mae:0.053796\n"
     ]
    },
    {
     "name": "stdout",
     "output_type": "stream",
     "text": [
      "[26]\ttrain-mae:0.053774\n"
     ]
    },
    {
     "name": "stdout",
     "output_type": "stream",
     "text": [
      "[27]\ttrain-mae:0.053755\n"
     ]
    },
    {
     "name": "stdout",
     "output_type": "stream",
     "text": [
      "[28]\ttrain-mae:0.053734\n"
     ]
    },
    {
     "name": "stdout",
     "output_type": "stream",
     "text": [
      "[29]\ttrain-mae:0.053711\n"
     ]
    },
    {
     "name": "stdout",
     "output_type": "stream",
     "text": [
      "[30]\ttrain-mae:0.053692\n"
     ]
    },
    {
     "name": "stdout",
     "output_type": "stream",
     "text": [
      "[31]\ttrain-mae:0.053673\n"
     ]
    },
    {
     "name": "stdout",
     "output_type": "stream",
     "text": [
      "[32]\ttrain-mae:0.053657\n"
     ]
    },
    {
     "name": "stdout",
     "output_type": "stream",
     "text": [
      "[33]\ttrain-mae:0.053641\n"
     ]
    },
    {
     "name": "stdout",
     "output_type": "stream",
     "text": [
      "[34]\ttrain-mae:0.053625\n"
     ]
    },
    {
     "name": "stdout",
     "output_type": "stream",
     "text": [
      "[35]\ttrain-mae:0.053608\n"
     ]
    },
    {
     "name": "stdout",
     "output_type": "stream",
     "text": [
      "[36]\ttrain-mae:0.053594\n"
     ]
    },
    {
     "name": "stdout",
     "output_type": "stream",
     "text": [
      "[37]\ttrain-mae:0.053576\n"
     ]
    },
    {
     "name": "stdout",
     "output_type": "stream",
     "text": [
      "[38]\ttrain-mae:0.053559\n"
     ]
    },
    {
     "name": "stdout",
     "output_type": "stream",
     "text": [
      "[39]\ttrain-mae:0.053543\n"
     ]
    },
    {
     "name": "stdout",
     "output_type": "stream",
     "text": [
      "[40]\ttrain-mae:0.053525\n"
     ]
    },
    {
     "name": "stdout",
     "output_type": "stream",
     "text": [
      "[41]\ttrain-mae:0.05351\n"
     ]
    },
    {
     "name": "stdout",
     "output_type": "stream",
     "text": [
      "[42]\ttrain-mae:0.053497\n"
     ]
    },
    {
     "name": "stdout",
     "output_type": "stream",
     "text": [
      "[43]\ttrain-mae:0.053478\n"
     ]
    },
    {
     "name": "stdout",
     "output_type": "stream",
     "text": [
      "[44]\ttrain-mae:0.053461\n"
     ]
    },
    {
     "name": "stdout",
     "output_type": "stream",
     "text": [
      "[45]\ttrain-mae:0.053452\n"
     ]
    },
    {
     "name": "stdout",
     "output_type": "stream",
     "text": [
      "[46]\ttrain-mae:0.053433\n"
     ]
    },
    {
     "name": "stdout",
     "output_type": "stream",
     "text": [
      "[47]\ttrain-mae:0.053419\n"
     ]
    },
    {
     "name": "stdout",
     "output_type": "stream",
     "text": [
      "[48]\ttrain-mae:0.053405\n"
     ]
    },
    {
     "name": "stdout",
     "output_type": "stream",
     "text": [
      "[49]\ttrain-mae:0.053393\n"
     ]
    },
    {
     "name": "stdout",
     "output_type": "stream",
     "text": [
      "[50]\ttrain-mae:0.053382\n"
     ]
    },
    {
     "name": "stdout",
     "output_type": "stream",
     "text": [
      "[51]\ttrain-mae:0.053369\n"
     ]
    },
    {
     "name": "stdout",
     "output_type": "stream",
     "text": [
      "[52]\ttrain-mae:0.053353\n"
     ]
    },
    {
     "name": "stdout",
     "output_type": "stream",
     "text": [
      "[53]\ttrain-mae:0.053339\n"
     ]
    },
    {
     "name": "stdout",
     "output_type": "stream",
     "text": [
      "[54]\ttrain-mae:0.053326\n"
     ]
    },
    {
     "name": "stdout",
     "output_type": "stream",
     "text": [
      "[55]\ttrain-mae:0.053314\n"
     ]
    },
    {
     "name": "stdout",
     "output_type": "stream",
     "text": [
      "[56]\ttrain-mae:0.053298\n"
     ]
    },
    {
     "name": "stdout",
     "output_type": "stream",
     "text": [
      "[57]\ttrain-mae:0.053288\n"
     ]
    },
    {
     "name": "stdout",
     "output_type": "stream",
     "text": [
      "[58]\ttrain-mae:0.053275\n"
     ]
    },
    {
     "name": "stdout",
     "output_type": "stream",
     "text": [
      "[59]\ttrain-mae:0.053263\n"
     ]
    },
    {
     "name": "stdout",
     "output_type": "stream",
     "text": [
      "[60]\ttrain-mae:0.053253\n"
     ]
    },
    {
     "name": "stdout",
     "output_type": "stream",
     "text": [
      "[61]\ttrain-mae:0.053243\n"
     ]
    },
    {
     "name": "stdout",
     "output_type": "stream",
     "text": [
      "[62]\ttrain-mae:0.053235\n"
     ]
    },
    {
     "name": "stdout",
     "output_type": "stream",
     "text": [
      "[63]\ttrain-mae:0.053229\n"
     ]
    },
    {
     "name": "stdout",
     "output_type": "stream",
     "text": [
      "[64]\ttrain-mae:0.053217\n"
     ]
    },
    {
     "name": "stdout",
     "output_type": "stream",
     "text": [
      "[65]\ttrain-mae:0.053207\n"
     ]
    },
    {
     "name": "stdout",
     "output_type": "stream",
     "text": [
      "[66]\ttrain-mae:0.053196\n"
     ]
    },
    {
     "name": "stdout",
     "output_type": "stream",
     "text": [
      "[67]\ttrain-mae:0.05319\n"
     ]
    },
    {
     "name": "stdout",
     "output_type": "stream",
     "text": [
      "[68]\ttrain-mae:0.053179\n"
     ]
    },
    {
     "name": "stdout",
     "output_type": "stream",
     "text": [
      "[69]\ttrain-mae:0.053168\n"
     ]
    },
    {
     "name": "stdout",
     "output_type": "stream",
     "text": [
      "[70]\ttrain-mae:0.053156\n"
     ]
    },
    {
     "name": "stdout",
     "output_type": "stream",
     "text": [
      "[71]\ttrain-mae:0.053148\n"
     ]
    },
    {
     "name": "stdout",
     "output_type": "stream",
     "text": [
      "[72]\ttrain-mae:0.053134\n"
     ]
    },
    {
     "name": "stdout",
     "output_type": "stream",
     "text": [
      "[73]\ttrain-mae:0.05312\n"
     ]
    },
    {
     "name": "stdout",
     "output_type": "stream",
     "text": [
      "[74]\ttrain-mae:0.053105\n"
     ]
    },
    {
     "name": "stdout",
     "output_type": "stream",
     "text": [
      "[75]\ttrain-mae:0.053095\n"
     ]
    },
    {
     "name": "stdout",
     "output_type": "stream",
     "text": [
      "[76]\ttrain-mae:0.053089\n"
     ]
    },
    {
     "name": "stdout",
     "output_type": "stream",
     "text": [
      "[77]\ttrain-mae:0.053079\n"
     ]
    },
    {
     "name": "stdout",
     "output_type": "stream",
     "text": [
      "[78]\ttrain-mae:0.053065\n"
     ]
    },
    {
     "name": "stdout",
     "output_type": "stream",
     "text": [
      "[79]\ttrain-mae:0.053051\n"
     ]
    },
    {
     "name": "stdout",
     "output_type": "stream",
     "text": [
      "[80]\ttrain-mae:0.053044\n"
     ]
    },
    {
     "name": "stdout",
     "output_type": "stream",
     "text": [
      "[81]\ttrain-mae:0.053031\n"
     ]
    },
    {
     "name": "stdout",
     "output_type": "stream",
     "text": [
      "[82]\ttrain-mae:0.053021\n"
     ]
    },
    {
     "name": "stdout",
     "output_type": "stream",
     "text": [
      "[83]\ttrain-mae:0.053013\n"
     ]
    },
    {
     "name": "stdout",
     "output_type": "stream",
     "text": [
      "[84]\ttrain-mae:0.053\n"
     ]
    },
    {
     "name": "stdout",
     "output_type": "stream",
     "text": [
      "[85]\ttrain-mae:0.052991\n"
     ]
    },
    {
     "name": "stdout",
     "output_type": "stream",
     "text": [
      "[86]\ttrain-mae:0.052973\n"
     ]
    },
    {
     "name": "stdout",
     "output_type": "stream",
     "text": [
      "[87]\ttrain-mae:0.052963\n"
     ]
    },
    {
     "name": "stdout",
     "output_type": "stream",
     "text": [
      "[88]\ttrain-mae:0.05295\n"
     ]
    },
    {
     "name": "stdout",
     "output_type": "stream",
     "text": [
      "[89]\ttrain-mae:0.052944\n"
     ]
    },
    {
     "name": "stdout",
     "output_type": "stream",
     "text": [
      "[90]\ttrain-mae:0.052934\n"
     ]
    },
    {
     "name": "stdout",
     "output_type": "stream",
     "text": [
      "[91]\ttrain-mae:0.052925\n"
     ]
    },
    {
     "name": "stdout",
     "output_type": "stream",
     "text": [
      "[92]\ttrain-mae:0.052919\n"
     ]
    },
    {
     "name": "stdout",
     "output_type": "stream",
     "text": [
      "[93]\ttrain-mae:0.052911\n"
     ]
    },
    {
     "name": "stdout",
     "output_type": "stream",
     "text": [
      "[94]\ttrain-mae:0.052904\n"
     ]
    },
    {
     "name": "stdout",
     "output_type": "stream",
     "text": [
      "[95]\ttrain-mae:0.052895\n"
     ]
    },
    {
     "name": "stdout",
     "output_type": "stream",
     "text": [
      "[96]\ttrain-mae:0.052886\n"
     ]
    },
    {
     "name": "stdout",
     "output_type": "stream",
     "text": [
      "[97]\ttrain-mae:0.052873\n"
     ]
    },
    {
     "name": "stdout",
     "output_type": "stream",
     "text": [
      "[98]\ttrain-mae:0.052865\n"
     ]
    },
    {
     "name": "stdout",
     "output_type": "stream",
     "text": [
      "[99]\ttrain-mae:0.05286\n"
     ]
    },
    {
     "name": "stdout",
     "output_type": "stream",
     "text": [
      "[100]\ttrain-mae:0.052845\n"
     ]
    },
    {
     "name": "stdout",
     "output_type": "stream",
     "text": [
      "[101]\ttrain-mae:0.052838\n"
     ]
    },
    {
     "name": "stdout",
     "output_type": "stream",
     "text": [
      "[102]\ttrain-mae:0.052829\n"
     ]
    },
    {
     "name": "stdout",
     "output_type": "stream",
     "text": [
      "[103]\ttrain-mae:0.052822\n"
     ]
    },
    {
     "name": "stdout",
     "output_type": "stream",
     "text": [
      "[104]\ttrain-mae:0.052815\n"
     ]
    },
    {
     "name": "stdout",
     "output_type": "stream",
     "text": [
      "[105]\ttrain-mae:0.052805\n"
     ]
    },
    {
     "name": "stdout",
     "output_type": "stream",
     "text": [
      "[106]\ttrain-mae:0.052797\n"
     ]
    },
    {
     "name": "stdout",
     "output_type": "stream",
     "text": [
      "[107]\ttrain-mae:0.05279\n"
     ]
    },
    {
     "name": "stdout",
     "output_type": "stream",
     "text": [
      "[108]\ttrain-mae:0.052782\n"
     ]
    },
    {
     "name": "stdout",
     "output_type": "stream",
     "text": [
      "[109]\ttrain-mae:0.052771\n"
     ]
    },
    {
     "name": "stdout",
     "output_type": "stream",
     "text": [
      "[110]\ttrain-mae:0.052762\n"
     ]
    },
    {
     "name": "stdout",
     "output_type": "stream",
     "text": [
      "[111]\ttrain-mae:0.052752\n"
     ]
    },
    {
     "name": "stdout",
     "output_type": "stream",
     "text": [
      "[112]\ttrain-mae:0.052746\n"
     ]
    },
    {
     "name": "stdout",
     "output_type": "stream",
     "text": [
      "[113]\ttrain-mae:0.05274\n"
     ]
    },
    {
     "name": "stdout",
     "output_type": "stream",
     "text": [
      "[114]\ttrain-mae:0.052736\n"
     ]
    },
    {
     "name": "stdout",
     "output_type": "stream",
     "text": [
      "[115]\ttrain-mae:0.052724\n"
     ]
    },
    {
     "name": "stdout",
     "output_type": "stream",
     "text": [
      "[116]\ttrain-mae:0.052713\n"
     ]
    },
    {
     "name": "stdout",
     "output_type": "stream",
     "text": [
      "[117]\ttrain-mae:0.052704\n"
     ]
    },
    {
     "name": "stdout",
     "output_type": "stream",
     "text": [
      "[118]\ttrain-mae:0.0527\n"
     ]
    },
    {
     "name": "stdout",
     "output_type": "stream",
     "text": [
      "[119]\ttrain-mae:0.052694\n"
     ]
    },
    {
     "name": "stdout",
     "output_type": "stream",
     "text": [
      "[120]\ttrain-mae:0.052689\n"
     ]
    },
    {
     "name": "stdout",
     "output_type": "stream",
     "text": [
      "[121]\ttrain-mae:0.052679\n"
     ]
    },
    {
     "name": "stdout",
     "output_type": "stream",
     "text": [
      "[122]\ttrain-mae:0.052675\n"
     ]
    },
    {
     "name": "stdout",
     "output_type": "stream",
     "text": [
      "[123]\ttrain-mae:0.052668\n"
     ]
    },
    {
     "name": "stdout",
     "output_type": "stream",
     "text": [
      "[124]\ttrain-mae:0.052664\n"
     ]
    },
    {
     "name": "stdout",
     "output_type": "stream",
     "text": [
      "[125]\ttrain-mae:0.052662\n"
     ]
    },
    {
     "name": "stdout",
     "output_type": "stream",
     "text": [
      "[126]\ttrain-mae:0.052657\n"
     ]
    },
    {
     "name": "stdout",
     "output_type": "stream",
     "text": [
      "[127]\ttrain-mae:0.052651\n"
     ]
    },
    {
     "name": "stdout",
     "output_type": "stream",
     "text": [
      "[128]\ttrain-mae:0.052647\n"
     ]
    },
    {
     "name": "stdout",
     "output_type": "stream",
     "text": [
      "[129]\ttrain-mae:0.052638\n"
     ]
    },
    {
     "name": "stdout",
     "output_type": "stream",
     "text": [
      "[130]\ttrain-mae:0.052632\n"
     ]
    },
    {
     "name": "stdout",
     "output_type": "stream",
     "text": [
      "[131]\ttrain-mae:0.052624\n"
     ]
    },
    {
     "name": "stdout",
     "output_type": "stream",
     "text": [
      "[132]\ttrain-mae:0.052619\n"
     ]
    },
    {
     "name": "stdout",
     "output_type": "stream",
     "text": [
      "[133]\ttrain-mae:0.052615\n"
     ]
    },
    {
     "name": "stdout",
     "output_type": "stream",
     "text": [
      "[134]\ttrain-mae:0.052608\n"
     ]
    },
    {
     "name": "stdout",
     "output_type": "stream",
     "text": [
      "[135]\ttrain-mae:0.052601\n"
     ]
    },
    {
     "name": "stdout",
     "output_type": "stream",
     "text": [
      "[136]\ttrain-mae:0.052594\n"
     ]
    },
    {
     "name": "stdout",
     "output_type": "stream",
     "text": [
      "[137]\ttrain-mae:0.052592\n"
     ]
    },
    {
     "name": "stdout",
     "output_type": "stream",
     "text": [
      "[138]\ttrain-mae:0.05258\n"
     ]
    },
    {
     "name": "stdout",
     "output_type": "stream",
     "text": [
      "[139]\ttrain-mae:0.052573\n"
     ]
    },
    {
     "name": "stdout",
     "output_type": "stream",
     "text": [
      "[140]\ttrain-mae:0.052567\n"
     ]
    },
    {
     "name": "stdout",
     "output_type": "stream",
     "text": [
      "[141]\ttrain-mae:0.052558\n"
     ]
    },
    {
     "name": "stdout",
     "output_type": "stream",
     "text": [
      "[142]\ttrain-mae:0.052553\n"
     ]
    },
    {
     "name": "stdout",
     "output_type": "stream",
     "text": [
      "[143]\ttrain-mae:0.052548\n"
     ]
    },
    {
     "name": "stdout",
     "output_type": "stream",
     "text": [
      "[144]\ttrain-mae:0.052543\n"
     ]
    },
    {
     "name": "stdout",
     "output_type": "stream",
     "text": [
      "[145]\ttrain-mae:0.052535\n"
     ]
    },
    {
     "name": "stdout",
     "output_type": "stream",
     "text": [
      "[146]\ttrain-mae:0.052525\n"
     ]
    },
    {
     "name": "stdout",
     "output_type": "stream",
     "text": [
      "[147]\ttrain-mae:0.052518\n"
     ]
    },
    {
     "name": "stdout",
     "output_type": "stream",
     "text": [
      "[148]\ttrain-mae:0.052514\n"
     ]
    },
    {
     "name": "stdout",
     "output_type": "stream",
     "text": [
      "[149]\ttrain-mae:0.052508\n"
     ]
    },
    {
     "name": "stdout",
     "output_type": "stream",
     "text": [
      "[150]\ttrain-mae:0.052502\n"
     ]
    },
    {
     "name": "stdout",
     "output_type": "stream",
     "text": [
      "[151]\ttrain-mae:0.052497\n"
     ]
    },
    {
     "name": "stdout",
     "output_type": "stream",
     "text": [
      "[152]\ttrain-mae:0.052489\n"
     ]
    },
    {
     "name": "stdout",
     "output_type": "stream",
     "text": [
      "[153]\ttrain-mae:0.052482\n"
     ]
    },
    {
     "name": "stdout",
     "output_type": "stream",
     "text": [
      "[154]\ttrain-mae:0.052473\n"
     ]
    },
    {
     "name": "stdout",
     "output_type": "stream",
     "text": [
      "[155]\ttrain-mae:0.052468\n"
     ]
    },
    {
     "name": "stdout",
     "output_type": "stream",
     "text": [
      "[156]\ttrain-mae:0.052462\n"
     ]
    },
    {
     "name": "stdout",
     "output_type": "stream",
     "text": [
      "[157]\ttrain-mae:0.052447\n"
     ]
    },
    {
     "name": "stdout",
     "output_type": "stream",
     "text": [
      "[158]\ttrain-mae:0.052439\n"
     ]
    },
    {
     "name": "stdout",
     "output_type": "stream",
     "text": [
      "[159]\ttrain-mae:0.052429\n"
     ]
    },
    {
     "name": "stdout",
     "output_type": "stream",
     "text": [
      "[160]\ttrain-mae:0.052426\n"
     ]
    },
    {
     "name": "stdout",
     "output_type": "stream",
     "text": [
      "[161]\ttrain-mae:0.05242\n"
     ]
    },
    {
     "name": "stdout",
     "output_type": "stream",
     "text": [
      "[162]\ttrain-mae:0.052412\n"
     ]
    },
    {
     "name": "stdout",
     "output_type": "stream",
     "text": [
      "[163]\ttrain-mae:0.052404\n"
     ]
    },
    {
     "name": "stdout",
     "output_type": "stream",
     "text": [
      "[164]\ttrain-mae:0.052394\n"
     ]
    },
    {
     "name": "stdout",
     "output_type": "stream",
     "text": [
      "[165]\ttrain-mae:0.052388\n"
     ]
    },
    {
     "name": "stdout",
     "output_type": "stream",
     "text": [
      "[166]\ttrain-mae:0.052383\n"
     ]
    },
    {
     "name": "stdout",
     "output_type": "stream",
     "text": [
      "[167]\ttrain-mae:0.052379\n"
     ]
    },
    {
     "name": "stdout",
     "output_type": "stream",
     "text": [
      "[168]\ttrain-mae:0.052373\n"
     ]
    },
    {
     "name": "stdout",
     "output_type": "stream",
     "text": [
      "[169]\ttrain-mae:0.052369\n"
     ]
    },
    {
     "name": "stdout",
     "output_type": "stream",
     "text": [
      "[170]\ttrain-mae:0.052361\n"
     ]
    },
    {
     "name": "stdout",
     "output_type": "stream",
     "text": [
      "[171]\ttrain-mae:0.052355\n"
     ]
    },
    {
     "name": "stdout",
     "output_type": "stream",
     "text": [
      "[172]\ttrain-mae:0.052347\n"
     ]
    },
    {
     "name": "stdout",
     "output_type": "stream",
     "text": [
      "[173]\ttrain-mae:0.052345\n"
     ]
    },
    {
     "name": "stdout",
     "output_type": "stream",
     "text": [
      "[174]\ttrain-mae:0.052341\n"
     ]
    },
    {
     "name": "stdout",
     "output_type": "stream",
     "text": [
      "[175]\ttrain-mae:0.052338\n"
     ]
    },
    {
     "name": "stdout",
     "output_type": "stream",
     "text": [
      "[176]\ttrain-mae:0.052331\n"
     ]
    },
    {
     "name": "stdout",
     "output_type": "stream",
     "text": [
      "[177]\ttrain-mae:0.052326\n"
     ]
    },
    {
     "name": "stdout",
     "output_type": "stream",
     "text": [
      "[178]\ttrain-mae:0.052318\n"
     ]
    },
    {
     "name": "stdout",
     "output_type": "stream",
     "text": [
      "[179]\ttrain-mae:0.052314\n"
     ]
    },
    {
     "name": "stdout",
     "output_type": "stream",
     "text": [
      "[180]\ttrain-mae:0.052306\n"
     ]
    },
    {
     "name": "stdout",
     "output_type": "stream",
     "text": [
      "[181]\ttrain-mae:0.052296\n"
     ]
    },
    {
     "name": "stdout",
     "output_type": "stream",
     "text": [
      "[182]\ttrain-mae:0.052292\n"
     ]
    },
    {
     "name": "stdout",
     "output_type": "stream",
     "text": [
      "[183]\ttrain-mae:0.052286\n"
     ]
    },
    {
     "name": "stdout",
     "output_type": "stream",
     "text": [
      "[184]\ttrain-mae:0.052281\n"
     ]
    },
    {
     "name": "stdout",
     "output_type": "stream",
     "text": [
      "[185]\ttrain-mae:0.052276\n"
     ]
    },
    {
     "name": "stdout",
     "output_type": "stream",
     "text": [
      "[186]\ttrain-mae:0.052271\n"
     ]
    },
    {
     "name": "stdout",
     "output_type": "stream",
     "text": [
      "[187]\ttrain-mae:0.052268\n"
     ]
    },
    {
     "name": "stdout",
     "output_type": "stream",
     "text": [
      "model trained.\n"
     ]
    }
   ],
   "source": [
    "watchlist = [(dtrain, 'train')]\n",
    "model = xgb.train(dict(xgboost_parameters, silent=1), dtrain=dtrain, num_boost_round=actual_boost_rounds,\n",
    "                  evals=watchlist)\n",
    "print ('model trained.')"
   ]
  },
  {
   "cell_type": "code",
   "execution_count": 170,
   "metadata": {},
   "outputs": [
    {
     "name": "stdout",
     "output_type": "stream",
     "text": [
      "our submission file has 2985217 rows \n"
     ]
    }
   ],
   "source": [
    "# predict\n",
    "predictions = model.predict(dtest)\n",
    "y_predictions = np.array([str(round(each, 10)) for each in predictions])"
   ]
  },
  {
   "cell_type": "code",
   "execution_count": 171,
   "metadata": {},
   "outputs": [
    {
     "name": "stdout",
     "output_type": "stream",
     "text": [
      "our submission file has 2985217 rows \n"
     ]
    }
   ],
   "source": [
    "output = pd.DataFrame({'ParcelId': properties['parcelid'].astype(np.int32),\n",
    "                       '201610': y_predictions, '201611': y_predictions, '201612': y_predictions,\n",
    "                       '201710': y_predictions, '201711': y_predictions, '201712': y_predictions})\n",
    "# get the column headers\n",
    "output_columns = output.columns.tolist()\n",
    "\n",
    "# rearrange the columns to put the last one first\n",
    "output = output[output_columns[-1:] + output_columns[:-1]]\n",
    "print ('our submission file has %d rows ' % len(output))"
   ]
  },
  {
   "cell_type": "code",
   "execution_count": 172,
   "metadata": {},
   "outputs": [
    {
     "name": "stdout",
     "output_type": "stream",
     "text": [
      "writing submission to submission.csv.gz\n"
     ]
    },
    {
     "name": "stdout",
     "output_type": "stream",
     "text": [
      "done.\n"
     ]
    }
   ],
   "source": [
    "# make the submission file\n",
    "output_filename = 'submission.csv.gz'\n",
    "print ('writing submission to %s' % output_filename)\n",
    "output.to_csv(output_filename, index=False, float_format='%.4f', compression='gzip')\n",
    "print ('done.')"
   ]
  },
  {
   "cell_type": "code",
   "execution_count": 173,
   "metadata": {},
   "outputs": [
    {
     "name": "stdout",
     "output_type": "stream",
     "text": [
      "of 51 features the model considers 51 of them significant\nhere are the insignificant features: []\n"
     ]
    },
    {
     "data": {
      "image/png": "[encoded data removed]",
      "text/plain": [
       "<matplotlib.figure.Figure at 0x7fe4c1963cd0>"
      ]
     },
     "metadata": {},
     "output_type": "display_data"
    }
   ],
   "source": [
    "# show a graph of the feature importance\n",
    "f_score = model.get_fscore()\n",
    "importance = sorted(f_score.items(), key=operator.itemgetter(1), reverse=True)\n",
    "print('of %d features the model considers %d of them significant' % (len(list(x_train)), len(importance)))\n",
    "insignificant_features = set([item[0] for item in f_score.items()]).symmetric_difference(set(list(x_train)))\n",
    "print('here are the insignificant features: %s' % sorted(list(insignificant_features)))\n",
    "\n",
    "features = zip(*importance)[0]\n",
    "scores = zip(*importance)[1]\n",
    "x_pos = np.arange(len(features))\n",
    "plt.figure()\n",
    "plt.bar(x_pos, scores, align='center')\n",
    "plt.xticks(x_pos, features, rotation='vertical')\n",
    "plt.xlim(-1, len(x_pos))\n",
    "plt.tight_layout()\n",
    "plt.ylabel('Feature importance')\n",
    "plt.show()"
   ]
  },
  {
   "cell_type": "code",
   "execution_count": null,
   "metadata": {},
   "outputs": [],
   "source": [
    "column_name = 'predicted logerror'\n",
    "# visualize the error for the predicted results\n",
    "fig, ax = plt.subplots()\n",
    "predictions_copy = np.copy(predictions)\n",
    "predictions_copy.sort()\n",
    "ax.scatter(range(predictions_copy.size), predictions_copy)\n",
    "plt.ylabel(column_name)\n",
    "plt.show()"
   ]
  },
  {
   "cell_type": "code",
   "execution_count": null,
   "metadata": {},
   "outputs": [],
   "source": [
    ""
   ]
  }
 ],
 "metadata": {
  "kernelspec": {
   "display_name": "Python 2",
   "language": "python",
   "name": "python2"
  },
  "language_info": {
   "codemirror_mode": {
    "name": "ipython",
    "version": 2.0
   },
   "file_extension": ".py",
   "mimetype": "text/x-python",
   "name": "python",
   "nbconvert_exporter": "python",
   "pygments_lexer": "ipython2",
   "version": "2.7.6"
  }
 },
 "nbformat": 4,
 "nbformat_minor": 0
}